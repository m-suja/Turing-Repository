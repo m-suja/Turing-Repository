{
  "nbformat": 4,
  "nbformat_minor": 0,
  "metadata": {
    "colab": {
      "provenance": []
    },
    "kernelspec": {
      "name": "python3",
      "display_name": "Python 3"
    },
    "language_info": {
      "name": "python"
    }
  },
  "cells": [
    {
      "cell_type": "markdown",
      "source": [
        "## Task Description\n",
        "\n",
        "You got a follow up task from your product manager to give stats on how subscriptions churn looks like from a weekly retention standpoint. Your PM argues that to view retention numbers on a monthly basis takes too long and important insights from data might be missed out.\n",
        "\n",
        "You remember learning previously that cohorts analysis can be really helpful in such cases. You should provide weekly subscriptions data that shows how many subscribers started their subscription in a particular week and how many remain active in the following 6 weeks. Your end result should show weekly retention cohorts for each week of data available in the dataset and their retention from week 0 to week 6. Assume that you are doing this analysis on 2021-02-07.\n",
        "\n",
        "You should use [turing_data_analytics.subscriptions](https://console.cloud.google.com/bigquery?authuser=3&project=tc-da-1&page=table&ws=!1m19!1m3!8m2!1s756497109418!2s1b8fa7cb3d73401f81fea1591fa615a7!1m4!4m3!1sjustasproject-176208!2sturing_college!3sraw_events_test!1m4!4m3!1sjustasproject-176208!2sturing_college!3ssubscriptions!1m4!4m3!1stc-da-1!2sturing_data_analytics!3ssubscriptions&d=turing_data_analytics&p=tc-da-1&t=subscriptions) table to answer this question. Please write a SQL that would extract data from the BigQuery, create effective visualizations, by using a tool that you are familiar with such as Google Spreadsheets, Tableau, Looker Studio, or any other suitable data visualization tool, and briefly comment your findings.\n",
        "\n",
        "\n",
        "<br>\n",
        "\n",
        "## Evaluation criteria for a Graded project submission\n",
        "\n",
        "- SQL, correct columns identified to make analysis.\n",
        "- SQL, correct logic created to make analysis.\n",
        "- SQL, code formatted well and is readable.\n",
        "- Visualisation is clear and communicates the message/answer.\n",
        "- Analysis, findings and main points clearly structured.\n",
        "- Analytical approach to the problem\n",
        "\n",
        "<br>\n",
        "\n",
        "During a task review, you may get asked questions that test your understanding of covered topics.\n",
        "\n",
        "**Sample questions**:\n",
        "\n",
        "- What is the relationship between churn and retention rate?\n",
        "- What is negative churn?\n",
        "- What is user retention?\n",
        "- What are user retention cohorts?\n",
        "\n",
        "## Submission\n",
        "Upload a .sql file and all relevant solution files for this graded task to your GitHub repository using the \"Add File\" function.\n"
      ],
      "metadata": {
        "id": "gZz0xrLrK0eB"
      }
    }
  ]
}