{
  "cells": [
    {
      "cell_type": "markdown",
      "id": "bound-recognition",
      "metadata": {
        "id": "bound-recognition"
      },
      "source": [
        "## In this graded task you will be asked to create queries to solve specific business questions.\n",
        "\n",
        "\n",
        "You will have to explore [Adventureworks 2005 database](https://drive.google.com/file/d/1-Qsnn3bg0_PYgY5kKJOUDG8xdKLvOLPK/view?usp=sharing), identify the needed data and the correct way to get it/merge it together with other tables within this database.\n",
        "\n",
        "The database can be accessed [here](https://console.cloud.google.com/bigquery?project=tc-da-1&d=adwentureworks_db&p=tc-da-1) using the BigQuery account provided to you by Turing College via email.\n",
        "\n",
        "\n",
        "<br>\n",
        "\n",
        "### Tips:\n",
        "* Use  [schema](https://drive.google.com/file/d/1-Qsnn3bg0_PYgY5kKJOUDG8xdKLvOLPK/view?usp=sharing) for guidance when exploring tables and pay attention to the primary & foreign key when writing joins.\n",
        "* If the query is running slower during reruns, limit the scope of output while writing & experimenting. After the query is done then increase the scope to the intended one.\n",
        "* Use Google to find functions and solutions you may need to solve these tasks, experimentation & curiosity is key in succeeding as a junior data analyst.\n",
        "\n",
        "\n",
        "**There is no one right way to get the correct result.**\n",
        "\n",
        "> Also, make sure to use 'adwentureworks_db' **not** the **v19** version.\n"
      ]
    },
    {
      "cell_type": "markdown",
      "id": "yOc4TcCFXS6S",
      "metadata": {
        "id": "yOc4TcCFXS6S"
      },
      "source": [
        "**To complete this task you need to create a results Google spreadsheet.**\n",
        "- For each section of task you are required to copy your query result in one sheet and the written query in another sheet.\n",
        "- For example, when you solve 1.1, add sheet “1.1 result” and “1.1 query” and so forth.\n",
        "- If you are not able to get the right result, copy in your effort/ideas, we take into account effort.\n",
        "- During the correction, have the BigQuery GCP open, as you may be asked to run your queries and/or show data validation using BigQuery.\n"
      ]
    },
    {
      "cell_type": "markdown",
      "id": "ready-century",
      "metadata": {
        "id": "ready-century"
      },
      "source": [
        "## Tasks\n",
        "\n",
        "**1.1** You’ve been tasked to create a detailed **overview of all individual customers** (these are defined by customerType = ‘I’ and/or stored in an individual table).\n",
        "Write a query that provides:\n",
        "\n",
        "* **Identity information** : CustomerId, Firstname, Last Name, FullName (First Name & Last Name).\n",
        "* **An Extra column** called addressing_title i.e. (Mr. Achong), if the title is missing - Dear Achong.\n",
        "* **Contact information** : Email, phone, account number, CustomerType.\n",
        "* **Location information** : City, State & Country, address.\n",
        "* **Sales**: number of orders, total amount (with Tax), date of the last order.\n",
        "\n",
        "\n",
        "Copy only the top 200 rows from your written select ordered by total amount (with tax).\n",
        "\n",
        "* **Hint:** Few customers have multiple addresses, to avoid duplicate data take their latest available address by choosing max(AddressId)\n",
        "\n",
        "* Result Hint:\n",
        " <div><img src=\" https://i.imgur.com/iHraymP.png\"/></div>\n",
        "\n",
        "<br>\n",
        "\n",
        "**1.2** Business finds the original query valuable to analyze customers and now want to get the data from the first query for the **top 200 customers with the highest total amount (with tax) who have not ordered for the last 365 days**. How would you identify this segment?\n",
        "\n",
        "\n",
        "Hints:\n",
        "* You can use temp table, cte and/or subquery of the 1.1 select.\n",
        "* Note that the database is old and the current date should be defined by finding the latest order date in the orders table.\n",
        "\n",
        "<br>\n",
        "\n",
        "**1.3**  Enrich your original 1.1 SELECT by creating a **new column in the view that marks active & inactive customers based on whether they have ordered anything during the last 365 days**.\n",
        "\n",
        "* Copy only the top 500 rows from your written select ordered by CustomerId desc.\n",
        "\n",
        "\n",
        "<br>\n",
        "\n",
        "**1.4** Business would like to extract data on **all active customers from  North America.  Only customers that have either ordered no less than 2500 in total amount (with Tax) or ordered 5 + times** should be presented.\n",
        "\n",
        "In the output for these customers divide their address line into two columns, i.e.:\n",
        "\n",
        "\n",
        "| AddressLine1         | address_no | Address_st    |\n",
        "|----------------------|------------|---------------|\n",
        "| '8603 Elmhurst Lane' | 8603       | Elmhurst Lane |\n",
        "\n",
        "Order the output by country, state and date_last_order.\n"
      ]
    },
    {
      "cell_type": "markdown",
      "id": "sexual-lucas",
      "metadata": {
        "id": "sexual-lucas"
      },
      "source": [
        "**2. Reporting Sales’ numbers**\n",
        "\n",
        "- **Main tables to start from:** salesorderheader.\n",
        "\n",
        "\n",
        "**2.1** Create a query of monthly sales numbers in each Country & region. Include in the query a number of orders, customers and sales persons in each month with a total amount with tax earned. Sales numbers from all types of customers are required.\n",
        "\n",
        "* Result Hint:\n",
        "<div><img src=\"https://i.imgur.com/J69Y2cP.png\"/></div>\n",
        "\n",
        "\n",
        "**2.2** Enrich 2.1 query with the  cumulative_sum of the total amount with tax earned per country & region.\n",
        "\n",
        "* Hint: use CTE or subquery.\n",
        "\n",
        "* Result Hint:\n",
        "<div><img src=\"https://i.imgur.com/wfljBpY.png\" /></div>\n",
        "\n",
        "**2.3**  Enrich 2.2 query by adding ‘sales_rank’ column that ranks rows from best to worst  for each country based on total amount with tax earned each month. I.e. the month where the (US, Southwest) region made the highest total amount with tax earned will be ranked 1 for that region and vice versa.\n",
        "\n",
        "* Result Hint (with region filtered on France):\n",
        "<div><img src=\"https://i.imgur.com/ZFIFfjH.png\" /></div>\n",
        "\n",
        "**2.4** Enrich 2.3 query by adding taxes on a country level:\n",
        "- As taxes can vary in country based on province, the needed column is ‘**mean_tax_rate**’ -> average tax rate in a country.\n",
        "- Also, as not all regions have data on taxes, you also want to be transparent and show the **‘perc_provinces_w_tax’** -> a column representing the percentage of provinces with available tax rates for each country (i.e. If US has 53 provinces, and 10 of them have tax rates, then for US it should show 0,19)\n",
        "* **Hint:** If a state has multiple tax rates, choose the higher one. Do not double count a state in country average rate calculation if it has multiple tax rates.\n",
        "* **Hint:**  Ignore the isonlystateprovinceFlag rate mechanic, it is beyond the scope of this exercise. Treat all tax rates as equal.\n",
        "\n",
        "* Result Hint (with region filtered on US):\n",
        " <div><img src=\"https://i.imgur.com/WiUtAQX.png\" /></div>\n"
      ]
    },
    {
      "cell_type": "markdown",
      "id": "V5sBXOkJKU2M",
      "metadata": {
        "id": "V5sBXOkJKU2M"
      },
      "source": [
        "<br>\n",
        "\n",
        "# Evaluation criteria for a Graded project submission\n",
        "\n",
        "1. Effort & creativity in searching for suitable solutions.\n",
        "2. Code formatting & readability.\n",
        "3. Ability to explain logic behind code, validate results.\n",
        "4. Your general understanding of SQL\n",
        "\n",
        "During a task review, you may get asked questions that test your understanding of covered topics.\n",
        "\n",
        "**Sample questions**:\n",
        "* What were your first steps when compiling this query?\n",
        "* Did you join on foreign/primary keys in used tables?\n",
        "* Why did you use this logic, could you have done this task using a different type of logic?\n",
        "* Did you validate the results of this query? How? Can you imagine a case where your query becomes flawed/gives an error (i.e. one of tables receives bad data)\n"
      ]
    },
    {
      "cell_type": "markdown",
      "id": "eETf52jzz-S6",
      "metadata": {
        "id": "eETf52jzz-S6"
      },
      "source": [
        "# Submission\n",
        "\n",
        "To submit your project and enable the reviewer to preview your work, follow these steps:\n",
        "  1. Click on the GitHub icon above to navigate to your GitHub repository.\n",
        "  2. Once there, upload a **.sql** file along with other files relevant to your project as a spreadsheet link with query examples and results.\n",
        "    \n",
        "This process will allow the reviewer to access and evaluate your work in advance.\n",
        "\n",
        "**You are expected to upload your solution immediately upon scheduling a review**. A reviewer, if they see an empty repository with no solution, is allowed to cancel the review.\n",
        "\n",
        "After your first project review, you are encouraged to use the feedback received to make changes and improve your project. If you make the changes very close to the time of the second review, inform the reviewer at the start of the call that you have made some changes. Reviewers usually check your work in advance and might have only seen a previous version. To avoid this, you can schedule your two reviews with some time in-between and make the updates as early as possible.\n",
        "\n",
        "Read more about project reviews [here](https://turingcollege.atlassian.net/wiki/spaces/DLG/pages/537395951/Peer+expert+reviews+corrections).\n",
        "\n",
        "P.S. As a suggested practice, save your queries within the BigQuery environment. This will ensure convenient access to your SQL code."
      ]
    },
    {
      "cell_type": "markdown",
      "id": "T7eVWBgY2Xyq",
      "metadata": {
        "id": "T7eVWBgY2Xyq"
      },
      "source": [
        "# Additional Resources\n",
        "\n",
        "We hope this sprint has given you good starting knowledge for practicing SQL craft. We expect you will continue to improve your SQL skills throughout the whole Data Analytics course, as many future projects will require using it. Remember, practice is key.\n",
        "\n",
        "To help you keep learning, here are some extra material for you to check during your spare time between other sprints & modules.\n",
        "\n",
        "\n",
        "* (Optional) [SQL vs. NoSQL Databases: What's the Difference?](https://www.ibm.com/cloud/blog/sql-vs-nosql)\n",
        "* (Optional) [Google BigQuery: The Definitive Guide](https://www.oreilly.com/library/view/google-bigquery-the/9781492044451/)\n",
        "* (Optional) [Databases:](https://app.codesignal.com/arcade/db)\n",
        "\n",
        "  * Regular Paradise (36-37)\n",
        "    \n",
        "  * Time River Revisited (38-42)\n",
        "\n",
        "Also, If you stumble upon interesting and/or good SQL material online, do not hesitate to share it with your peers and team leads either in Discord or during stand-ups.\n",
        "\n",
        "Keep practicing and stay curious!"
      ]
    },
    {
      "cell_type": "markdown",
      "id": "UM8wPjeyUFqF",
      "metadata": {
        "id": "UM8wPjeyUFqF"
      },
      "source": [
        "\n",
        "___\n",
        "\n",
        "\n",
        "When you pass the project reviews for this sprint, come back to this page to find a document containing suggested solution for this project.\n",
        "\n",
        "<br>\n",
        "\n",
        "### Accessing the next sprint in module 2:\n",
        "[Here are the instructions](https://turingcollege.atlassian.net/wiki/spaces/DLG/pages/946864153/Sprint+material+access) for accessing next module's learning material.\n",
        "\n"
      ]
    }
  ],
  "metadata": {
    "colab": {
      "provenance": []
    },
    "kernelspec": {
      "display_name": "Python 3",
      "language": "python",
      "name": "python3"
    },
    "language_info": {
      "codemirror_mode": {
        "name": "ipython",
        "version": 3
      },
      "file_extension": ".py",
      "mimetype": "text/x-python",
      "name": "python",
      "nbconvert_exporter": "python",
      "pygments_lexer": "ipython3",
      "version": "3.7.10"
    },
    "toc": {
      "base_numbering": 1,
      "nav_menu": {},
      "number_sections": true,
      "sideBar": true,
      "skip_h1_title": false,
      "title_cell": "Table of Contents",
      "title_sidebar": "Contents",
      "toc_cell": false,
      "toc_position": {},
      "toc_section_display": true,
      "toc_window_display": false
    }
  },
  "nbformat": 4,
  "nbformat_minor": 5
}