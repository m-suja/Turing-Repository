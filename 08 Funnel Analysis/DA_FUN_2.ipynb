{
  "nbformat": 4,
  "nbformat_minor": 0,
  "metadata": {
    "colab": {
      "provenance": []
    },
    "kernelspec": {
      "name": "python3",
      "display_name": "Python 3"
    },
    "language_info": {
      "name": "python"
    }
  },
  "cells": [
    {
      "cell_type": "markdown",
      "source": [
        "# Graded task\n",
        "\n",
        "\n",
        "Congratulations on reaching the Funnels Graded task, and good luck!\n",
        "\n",
        "[Link to graded task for Funnels](https://docs.google.com/spreadsheets/d/1ARq64R00Q_yx5x1pwjZJ2aq9-Vf6OUzQ4eU15c_J3lk/edit#gid=1366383143)\n",
        "\n",
        "# Evaluation Criteria\n",
        "\n",
        "- Data collected correctly and table is shown in specified format.\n",
        "\n",
        "- Funnel chart is used with category split.\n",
        "\n",
        "- 1 or 2 insights provided regarding the data.\n",
        "\n",
        "- Overall Aesthetic look, You do not need to fit everything to be visible in 1 window, but spacing and optimal size selection for charts matter. Ideally your main key points of analysis should be visible from a single point of view.\n",
        "\n",
        "- Good use of formatting, layout, results highlighting.\n",
        "\n",
        "- General understanding of the topic\n",
        "\n",
        "<br>\n",
        "\n",
        "\n",
        "# Sample Questions\n",
        "\n",
        "- How did you collect the data? How did you identify the events to be used in this analysis?\n",
        "- Did you validate the data/query? How?\n",
        "- Did you find any challenges/opportunities when using the data sample?\n",
        "- What business questions could this analysis be used to answer?"
      ],
      "metadata": {
        "id": "8PLGCRVhEapr"
      }
    }
  ]
}