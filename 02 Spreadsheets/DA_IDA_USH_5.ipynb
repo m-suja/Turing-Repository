{
  "cells": [
    {
      "cell_type": "markdown",
      "metadata": {
        "id": "EIgRSF-6O_W9"
      },
      "source": [
        "# New additions to the project review process\n",
        "\n",
        "> Note: This is your second practical project which will require reviewing. A new thing introduced in this project is that it will require **2 project reviews and both of them will be performed by peers**. Later in the course, most sprints will have 1 STL and 1 peer reviews.\n",
        "\n",
        "In order to successfully complete the project, you need to achieve a project review score of 70% or higher for each received review, including both peer and STL assessments.\n",
        "\n",
        "When booking a peer review, you might get an STL if there are no learners available. However, the same STL can never perform both project reviews for the same learner for the same sprint.\n",
        "\n",
        "**You do not have to worry about who (i.e. which role) gets assigned for your reviews – the platform handles this automatically.**\n",
        "\n",
        "To make yourself available for reviewing others, please open the calendar in the Turing platform and select 'Set Availability.' By participating in project reviews, you will earn points that you will later use to request peer/SLT reviews for your own work. These project review points are deducted each time you schedule a peer/STL review. It's important to note that you should set your availability after completing this project, as it will enable you to start reviewing other learners who are still working on this project.\n",
        "\n",
        "A learner can only provide a project review for a sprint that they have completed themselves.\n",
        "\n",
        "<br>\n",
        "\n",
        "# Graded task\n",
        "\n",
        "You can find the task [here](https://docs.google.com/spreadsheets/d/1xDgMCw_PWapZ66JrdzMy940PzeTFxakA_ArDNOukPn4/copy)\n",
        "\n",
        "<br>\n",
        "\n",
        "# Submission\n",
        "For a comprehensive guide on project submission, detailed review information, and subsequent steps, please refer to the instructions provided [here](https://docs.google.com/document/d/1RTBkQk3kgm58hfM194OkkQN9a3ETHb1w/edit#heading=h.3znysh7). Additionally, you can watch [this video](https://www.loom.com/share/51d03634ccb64391a33dcefd78448c98?sid=ed1f08d0-aa27-4d1d-b801-dabc8f754a80) for guidance on how to upload your project.\n",
        "\n",
        "> Note, if you choose to create your project with Excel and upload an **.xlsx** file to your GitHub repository, clicking on it will not display the file directly; instead, you will see a **'view raw'** option that allows you to download the project file. (More information on this is provided in the video link above.)\n",
        "\n",
        "> To prevent cases where a reviewer might not notice the file in the GitHub repository (if you are working with Excel), you can include brief instructions in the **README.md** file on how to download your work, which involves clicking on 'view raw'.\n",
        "\n",
        "> Also, **You are expected to upload your solution immediately upon scheduling a review**. A reviewer, if they see an empty repository with no solution, is allowed to cancel the review.*\n",
        "\n",
        "*After your first project review, you are encouraged to use the feedback received to make changes and improve your project. If you make the changes very close to the time of the second review, inform the reviewer at the start of the call that you have made some changes. Reviewers usually check your work in advance and might have only seen a previous version. To avoid this, you can schedule your two reviews with some time in-between and make the updates as early as possible.*\n",
        "\n",
        "\n",
        "<br>\n",
        "\n",
        "## Accessing the next notebook:\n",
        "After you submit your project, you can immediately start working on the next sprint. Simply click on the next sprint in the navigation menu in the top left corner of the platform."
      ]
    }
  ],
  "metadata": {
    "colab": {
      "provenance": []
    },
    "kernelspec": {
      "display_name": "Python 3",
      "language": "python",
      "name": "python3"
    },
    "language_info": {
      "codemirror_mode": {
        "name": "ipython",
        "version": 3
      },
      "file_extension": ".py",
      "mimetype": "text/x-python",
      "name": "python",
      "nbconvert_exporter": "python",
      "pygments_lexer": "ipython3",
      "version": "3.7.10"
    },
    "toc": {
      "base_numbering": 1,
      "nav_menu": {},
      "number_sections": true,
      "sideBar": true,
      "skip_h1_title": false,
      "title_cell": "Table of Contents",
      "title_sidebar": "Contents",
      "toc_cell": false,
      "toc_position": {},
      "toc_section_display": true,
      "toc_window_display": false
    }
  },
  "nbformat": 4,
  "nbformat_minor": 0
}