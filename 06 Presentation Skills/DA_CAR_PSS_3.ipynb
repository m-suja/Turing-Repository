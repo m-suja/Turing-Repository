{
  "nbformat": 4,
  "nbformat_minor": 0,
  "metadata": {
    "colab": {
      "provenance": []
    },
    "kernelspec": {
      "name": "python3",
      "display_name": "Python 3"
    },
    "language_info": {
      "name": "python"
    }
  },
  "cells": [
    {
      "cell_type": "markdown",
      "source": [
        "You work as a data analyst at “AdwentureWorks'' company. You should be familiar with this company’s data from previous sprints. In case you need to refresh your memory about this data you can find a schema for this database [here](https://drive.google.com/file/d/1-Qsnn3bg0_PYgY5kKJOUDG8xdKLvOLPK/view). The data itself can be found [here](https://console.cloud.google.com/bigquery?project=tc-da-1&ws=!1m24!1m4!4m3!1stc-da-1!2solist_db!3solist_sellers_dataset!1m4!4m3!1stc-da-1!2solist_db!3sproduct_category_name_translation!1m4!4m3!1stc-da-1!2solist_db!3solist_orders_dataset!1m4!4m3!1stc-da-1!2sadwentureworks_db!3ssalespersonquotahistory!1m3!3m2!1stc-da-1!2sadwentureworks_db&j=bq:US:bquxjob_439ea020_17f990edf1c&page=queryresults).  \n",
        "\n",
        "Please choose one task from the following combinations:\n",
        "1. Executive Leadership and Finance\n",
        "2. Executive Leadership and Sales\n",
        "3. Executive Leadership and Operations\n",
        "4. Executive Leadership and Human Resources\n",
        "\n",
        "\n",
        "<i>Note</i>: if you have very little experience regarding what these departments are concerned with, you are strongly advised to research a bit deeper into it – whether it is reading about it online, talking to people working in those areas or discussing this in stand-ups/open sessions. At least basic awareness of the most common business processes and departments will help you immensely in almost any kind of career.\n",
        "\n",
        "A presentation to executives is typically high-level and strategic. It should communicate the problem, its importance and how the solution could help to achieve the goals of the organization. Executives are interested in the big picture, performance metrics and cost-benefit analysis.\n",
        "On the other hand, a presentation to department leads is more specific and tactical. It should provide more details on how the outcome of your analysis will impact their specific area of the organization and how they can contribute to the success of the problem solving. Department leads are more interested in how the project will affect their team, what their role and responsibilities will be, and how they can collaborate with other departments to achieve the project's objectives.\n",
        "\n",
        "You are asked to provide 1 dashboard which you will then use for 2 presentations (created using PowerPoint or another suitable tool for you) for each of the departments. If you wish, you can have 2 slightly modified versions of the dashboard to better suit each of the two presentations.\n",
        "\n",
        "\n",
        "Keep in mind that both presentations and dashboards should be prepared with your audience in mind. Make sure that you apply what you learned in this sprint and that you can provide not only data but also insights and communicate them.\n",
        "\n",
        "<br>\n",
        "\n",
        "## Evaluation criteria for dashboard are as follows\n",
        "\n",
        "- You should add at least 1 new data source to the dashboard. Write SQL queries to extract needed data, these queries should be well documented, with indentation and provided in a separate sheet of your Google Sheets with data itself. Make sure to share your data source (Google Sheet) with us as well. Keep in mind which departments you are presenting your data to, so you would provide them with the relevant data.\n",
        "- Remember how dashboard should be structured and what data should be provided. Make sure you use techniques provided in the materials of this sprint and other sprints not only to analyze data but to communicate your findings clearly.\n",
        "- Remember to have clear labels, good naming conventions and other elements, so the audience who looks at your dashboard can understand it without your explanations. We will be assessing the clarity and structure.\n",
        "- Think about possible data literacy levels for each of the 2 departments and how they impact your dashboard. We will assess if you could adjust your analysis and insights for them.\n",
        "- Think about the next steps, these will be very useful when doing presentations: what are the drawbacks of your analysis, and what further analysis or recommendations do you have? We will be assessing this in the next part, the presentations.\n",
        "\n",
        "\n",
        "<br>\n",
        "\n",
        "For the next step, provide 2 presentations and present them. One presentation of your choice should be a very brief one: up to 5 minutes. The other one should be a more detailed one, taking ~10 minutes. In case your audience has more questions, this limit may be exceeded. For the presentations, you will be assessed on:\n",
        "- Slide content: What is presented and how much information is on a slide.\n",
        "- Slide appearance: How content is distributed on a slide, animations, charts, tables, size of objects, etc.\n",
        "- Techniques used to hold the audience's attention: Asking questions, storytelling, etc.\n",
        "- Your body language and voice: They should help you and match the message you want to deliver.\n",
        "- Assurance and self-confidence.\n",
        "\n",
        "\n",
        "<br>\n",
        "\n",
        "**Sample Questions**\n",
        "This time we do not have sample questions as these will depend greatly on the topic and your presentations. This is important: When presenting, you have to understand your presentation yourself and be ready for deeper, or sometimes even “stupid” questions about the topic.\n",
        "\n",
        "<br>\n",
        "\n",
        "## Submission and additional information\n",
        "\n",
        "> Note: For **Power BI** users, please upload your Dashboard example by retrieving it as a PDF file to your project repository, next to the presentation (slides).\n",
        "\n",
        "- Learn more [here](https://turingcollege.atlassian.net/wiki/spaces/DLG/pages/537395951/Peer+expert+reviews#:~:text=Also%2C%20As%20you,be%20effectively%20communicated) in a 'Passing a review' paragraph, about how the quality of your presentation can impact your success in passing the project.\n",
        "\n",
        "- For a comprehensive guide on project submission, detailed review information, and subsequent steps, please refer to the instructions provided [here](https://docs.google.com/document/d/1RTBkQk3kgm58hfM194OkkQN9a3ETHb1w/edit#heading=h.3znysh7). Additionally, you can watch [this video](https://www.loom.com/share/51d03634ccb64391a33dcefd78448c98?sid=ed1f08d0-aa27-4d1d-b801-dabc8f754a80) for guidance on how to upload your project.\n",
        "\n",
        "- When using projects for your personal portfolio, please adhere to the following [rules and guidelines](https://turingcollege.atlassian.net/wiki/spaces/DLG/pages/1002307695/Portfolio+Items)\n",
        "\n"
      ],
      "metadata": {
        "id": "YEKx3a-Oe0_z"
      }
    }
  ]
}