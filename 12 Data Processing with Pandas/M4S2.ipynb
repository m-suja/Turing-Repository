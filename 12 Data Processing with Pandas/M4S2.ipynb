{
 "cells": [
  {
   "cell_type": "markdown",
   "id": "9eed3776",
   "metadata": {},
   "source": [
    "# Spotify Top 50 Track Analysis"
   ]
  },
  {
   "cell_type": "markdown",
   "id": "769744cf",
   "metadata": {},
   "source": [
    "#### About the data: \n",
    "Top 50 most streamed tracks on Spotify in 2020. This dataset has various variables regarding these songs."
   ]
  },
  {
   "cell_type": "markdown",
   "id": "b1cdb254",
   "metadata": {},
   "source": [
    "#### Objective: \n",
    "To analyze Spotify's top hits and find answers to the product manager's requirement to quantify what makes a hit song."
   ]
  },
  {
   "cell_type": "code",
   "execution_count": 3,
   "id": "15f50d5f",
   "metadata": {},
   "outputs": [],
   "source": [
    "import pandas as pd\n",
    "import numpy as np"
   ]
  },
  {
   "cell_type": "code",
   "execution_count": 71,
   "id": "0f66265b",
   "metadata": {},
   "outputs": [
    {
     "data": {
      "text/html": [
       "<div>\n",
       "<style scoped>\n",
       "    .dataframe tbody tr th:only-of-type {\n",
       "        vertical-align: middle;\n",
       "    }\n",
       "\n",
       "    .dataframe tbody tr th {\n",
       "        vertical-align: top;\n",
       "    }\n",
       "\n",
       "    .dataframe thead th {\n",
       "        text-align: right;\n",
       "    }\n",
       "</style>\n",
       "<table border=\"1\" class=\"dataframe\">\n",
       "  <thead>\n",
       "    <tr style=\"text-align: right;\">\n",
       "      <th></th>\n",
       "      <th>artist</th>\n",
       "      <th>album</th>\n",
       "      <th>track_name</th>\n",
       "      <th>track_id</th>\n",
       "      <th>energy</th>\n",
       "      <th>danceability</th>\n",
       "      <th>key</th>\n",
       "      <th>loudness</th>\n",
       "      <th>acousticness</th>\n",
       "      <th>speechiness</th>\n",
       "      <th>instrumentalness</th>\n",
       "      <th>liveness</th>\n",
       "      <th>valence</th>\n",
       "      <th>tempo</th>\n",
       "      <th>duration_ms</th>\n",
       "      <th>genre</th>\n",
       "    </tr>\n",
       "  </thead>\n",
       "  <tbody>\n",
       "    <tr>\n",
       "      <th>0</th>\n",
       "      <td>The Weeknd</td>\n",
       "      <td>After Hours</td>\n",
       "      <td>Blinding Lights</td>\n",
       "      <td>0VjIjW4GlUZAMYd2vXMi3b</td>\n",
       "      <td>0.730</td>\n",
       "      <td>0.514</td>\n",
       "      <td>1</td>\n",
       "      <td>-5.934</td>\n",
       "      <td>0.00146</td>\n",
       "      <td>0.0598</td>\n",
       "      <td>0.000095</td>\n",
       "      <td>0.0897</td>\n",
       "      <td>0.334</td>\n",
       "      <td>171.005</td>\n",
       "      <td>200040</td>\n",
       "      <td>R&amp;B/Soul</td>\n",
       "    </tr>\n",
       "    <tr>\n",
       "      <th>1</th>\n",
       "      <td>Tones And I</td>\n",
       "      <td>Dance Monkey</td>\n",
       "      <td>Dance Monkey</td>\n",
       "      <td>1rgnBhdG2JDFTbYkYRZAku</td>\n",
       "      <td>0.593</td>\n",
       "      <td>0.825</td>\n",
       "      <td>6</td>\n",
       "      <td>-6.401</td>\n",
       "      <td>0.68800</td>\n",
       "      <td>0.0988</td>\n",
       "      <td>0.000161</td>\n",
       "      <td>0.1700</td>\n",
       "      <td>0.540</td>\n",
       "      <td>98.078</td>\n",
       "      <td>209755</td>\n",
       "      <td>Alternative/Indie</td>\n",
       "    </tr>\n",
       "    <tr>\n",
       "      <th>2</th>\n",
       "      <td>Roddy Ricch</td>\n",
       "      <td>Please Excuse Me For Being Antisocial</td>\n",
       "      <td>The Box</td>\n",
       "      <td>0nbXyq5TXYPCO7pr3N8S4I</td>\n",
       "      <td>0.586</td>\n",
       "      <td>0.896</td>\n",
       "      <td>10</td>\n",
       "      <td>-6.687</td>\n",
       "      <td>0.10400</td>\n",
       "      <td>0.0559</td>\n",
       "      <td>0.000000</td>\n",
       "      <td>0.7900</td>\n",
       "      <td>0.642</td>\n",
       "      <td>116.971</td>\n",
       "      <td>196653</td>\n",
       "      <td>Hip-Hop/Rap</td>\n",
       "    </tr>\n",
       "    <tr>\n",
       "      <th>3</th>\n",
       "      <td>SAINt JHN</td>\n",
       "      <td>Roses (Imanbek Remix)</td>\n",
       "      <td>Roses - Imanbek Remix</td>\n",
       "      <td>2Wo6QQD1KMDWeFkkjLqwx5</td>\n",
       "      <td>0.721</td>\n",
       "      <td>0.785</td>\n",
       "      <td>8</td>\n",
       "      <td>-5.457</td>\n",
       "      <td>0.01490</td>\n",
       "      <td>0.0506</td>\n",
       "      <td>0.004320</td>\n",
       "      <td>0.2850</td>\n",
       "      <td>0.894</td>\n",
       "      <td>121.962</td>\n",
       "      <td>176219</td>\n",
       "      <td>Dance/Electronic</td>\n",
       "    </tr>\n",
       "    <tr>\n",
       "      <th>4</th>\n",
       "      <td>Dua Lipa</td>\n",
       "      <td>Future Nostalgia</td>\n",
       "      <td>Don't Start Now</td>\n",
       "      <td>3PfIrDoz19wz7qK7tYeu62</td>\n",
       "      <td>0.793</td>\n",
       "      <td>0.793</td>\n",
       "      <td>11</td>\n",
       "      <td>-4.521</td>\n",
       "      <td>0.01230</td>\n",
       "      <td>0.0830</td>\n",
       "      <td>0.000000</td>\n",
       "      <td>0.0951</td>\n",
       "      <td>0.679</td>\n",
       "      <td>123.950</td>\n",
       "      <td>183290</td>\n",
       "      <td>Nu-disco</td>\n",
       "    </tr>\n",
       "  </tbody>\n",
       "</table>\n",
       "</div>"
      ],
      "text/plain": [
       "        artist                                  album             track_name  \\\n",
       "0   The Weeknd                            After Hours        Blinding Lights   \n",
       "1  Tones And I                           Dance Monkey           Dance Monkey   \n",
       "2  Roddy Ricch  Please Excuse Me For Being Antisocial                The Box   \n",
       "3    SAINt JHN                  Roses (Imanbek Remix)  Roses - Imanbek Remix   \n",
       "4     Dua Lipa                       Future Nostalgia        Don't Start Now   \n",
       "\n",
       "                 track_id  energy  danceability  key  loudness  acousticness  \\\n",
       "0  0VjIjW4GlUZAMYd2vXMi3b   0.730         0.514    1    -5.934       0.00146   \n",
       "1  1rgnBhdG2JDFTbYkYRZAku   0.593         0.825    6    -6.401       0.68800   \n",
       "2  0nbXyq5TXYPCO7pr3N8S4I   0.586         0.896   10    -6.687       0.10400   \n",
       "3  2Wo6QQD1KMDWeFkkjLqwx5   0.721         0.785    8    -5.457       0.01490   \n",
       "4  3PfIrDoz19wz7qK7tYeu62   0.793         0.793   11    -4.521       0.01230   \n",
       "\n",
       "   speechiness  instrumentalness  liveness  valence    tempo  duration_ms  \\\n",
       "0       0.0598          0.000095    0.0897    0.334  171.005       200040   \n",
       "1       0.0988          0.000161    0.1700    0.540   98.078       209755   \n",
       "2       0.0559          0.000000    0.7900    0.642  116.971       196653   \n",
       "3       0.0506          0.004320    0.2850    0.894  121.962       176219   \n",
       "4       0.0830          0.000000    0.0951    0.679  123.950       183290   \n",
       "\n",
       "               genre  \n",
       "0           R&B/Soul  \n",
       "1  Alternative/Indie  \n",
       "2        Hip-Hop/Rap  \n",
       "3   Dance/Electronic  \n",
       "4           Nu-disco  "
      ]
     },
     "execution_count": 71,
     "metadata": {},
     "output_type": "execute_result"
    }
   ],
   "source": [
    "spotify = pd.read_csv('spotifytoptracks.csv', index_col= 0)\n",
    "spotify.head()"
   ]
  },
  {
   "cell_type": "markdown",
   "id": "3f812ec3",
   "metadata": {},
   "source": [
    "#### Data cleaning"
   ]
  },
  {
   "cell_type": "code",
   "execution_count": 41,
   "id": "3a887f36",
   "metadata": {},
   "outputs": [
    {
     "name": "stdout",
     "output_type": "stream",
     "text": [
      "Outliers based on IQR:\n",
      "    energy  danceability  key  loudness  acousticness  speechiness  \\\n",
      "0      NaN           NaN  NaN       NaN           NaN          NaN   \n",
      "1      NaN           NaN  NaN       NaN         0.688          NaN   \n",
      "2      NaN           NaN  NaN       NaN           NaN          NaN   \n",
      "3      NaN           NaN  NaN       NaN           NaN          NaN   \n",
      "7      NaN           NaN  NaN       NaN         0.731          NaN   \n",
      "9      NaN           NaN  NaN       NaN         0.751          NaN   \n",
      "10     NaN           NaN  NaN       NaN           NaN          NaN   \n",
      "12     NaN           NaN  NaN       NaN           NaN          NaN   \n",
      "16     NaN         0.459  NaN       NaN           NaN          NaN   \n",
      "18     NaN           NaN  NaN       NaN         0.837          NaN   \n",
      "19     NaN           NaN  NaN       NaN           NaN        0.487   \n",
      "24     NaN           NaN  NaN   -14.454         0.902          NaN   \n",
      "26     NaN           NaN  NaN       NaN           NaN        0.375   \n",
      "27     NaN           NaN  NaN       NaN           NaN        0.375   \n",
      "29     NaN           NaN  NaN       NaN           NaN        0.342   \n",
      "33     NaN           NaN  NaN       NaN           NaN          NaN   \n",
      "34     NaN           NaN  NaN       NaN           NaN          NaN   \n",
      "38     NaN           NaN  NaN       NaN           NaN        0.389   \n",
      "39     NaN           NaN  NaN       NaN           NaN          NaN   \n",
      "41     NaN           NaN  NaN       NaN           NaN          NaN   \n",
      "43     NaN           NaN  NaN       NaN           NaN        0.379   \n",
      "44     NaN         0.351  NaN       NaN         0.934          NaN   \n",
      "47     NaN         0.464  NaN       NaN         0.866          NaN   \n",
      "48     NaN           NaN  NaN       NaN           NaN          NaN   \n",
      "49     NaN           NaN  NaN       NaN           NaN          NaN   \n",
      "\n",
      "    instrumentalness  liveness  valence  tempo  duration_ms  \n",
      "0           0.000095       NaN      NaN    NaN          NaN  \n",
      "1           0.000161       NaN      NaN    NaN          NaN  \n",
      "2                NaN     0.790      NaN    NaN          NaN  \n",
      "3           0.004320       NaN      NaN    NaN          NaN  \n",
      "7                NaN     0.696      NaN    NaN          NaN  \n",
      "9                NaN       NaN      NaN    NaN          NaN  \n",
      "10          0.000134       NaN      NaN    NaN          NaN  \n",
      "12          0.002440       NaN      NaN    NaN          NaN  \n",
      "16               NaN       NaN      NaN    NaN          NaN  \n",
      "18               NaN       NaN      NaN    NaN          NaN  \n",
      "19               NaN       NaN      NaN    NaN          NaN  \n",
      "24          0.657000       NaN      NaN    NaN          NaN  \n",
      "26          0.130000       NaN      NaN    NaN          NaN  \n",
      "27               NaN       NaN      NaN    NaN          NaN  \n",
      "29               NaN       NaN      NaN    NaN          NaN  \n",
      "33          0.000209       NaN      NaN    NaN          NaN  \n",
      "34          0.001880       NaN      NaN    NaN          NaN  \n",
      "38               NaN       NaN      NaN    NaN          NaN  \n",
      "39          0.000064       NaN      NaN    NaN          NaN  \n",
      "41          0.001090     0.792      NaN    NaN          NaN  \n",
      "43               NaN       NaN      NaN    NaN     295177.0  \n",
      "44               NaN       NaN      NaN    NaN          NaN  \n",
      "47               NaN       NaN      NaN    NaN          NaN  \n",
      "48          0.000658       NaN      NaN    NaN          NaN  \n",
      "49               NaN       NaN      NaN    NaN     312820.0  \n"
     ]
    }
   ],
   "source": [
    "# Using IQR-based outliers to check whether the data we have outliers\n",
    "Q1 = numeric_df.quantile(0.25)\n",
    "Q3 = numeric_df.quantile(0.75)\n",
    "IQR = Q3 - Q1\n",
    "\n",
    "lower_bound = Q1 - 1.5 * IQR\n",
    "upper_bound = Q3 + 1.5 * IQR\n",
    "\n",
    "# Find rows with outliers\n",
    "outliers = numeric_df[(numeric_df < lower_bound) | (numeric_df > upper_bound)].dropna(how='all')\n",
    "print(\"Outliers based on IQR:\")\n",
    "print(outliers)"
   ]
  },
  {
   "cell_type": "markdown",
   "id": "85b02146",
   "metadata": {},
   "source": [
    "We can see that the dataset has multiple outliers. In this case, I am not going to take further action to mitigate  the outliers as we will not be extensively analysing the numerical features for this study. However, we will use median as a measure when needed in later in this task as the data is skewed and mean is extremely sensitive to outliers. "
   ]
  },
  {
   "cell_type": "code",
   "execution_count": 42,
   "id": "6b86bd26",
   "metadata": {},
   "outputs": [],
   "source": [
    "#checking for null values\n",
    "\n",
    "spotify['null_values'] = spotify.isnull().any(axis=1)"
   ]
  },
  {
   "cell_type": "code",
   "execution_count": 43,
   "id": "7d4539af",
   "metadata": {},
   "outputs": [],
   "source": [
    "#removing the column that was previously used to check if data has any null values.\n",
    "\n",
    "spotify.drop(columns = 'null_values', inplace = True)"
   ]
  },
  {
   "cell_type": "code",
   "execution_count": 59,
   "id": "88101821",
   "metadata": {
    "scrolled": true
   },
   "outputs": [
    {
     "data": {
      "text/plain": [
       "0     False\n",
       "1     False\n",
       "2     False\n",
       "3     False\n",
       "4     False\n",
       "5     False\n",
       "6     False\n",
       "7     False\n",
       "8     False\n",
       "9     False\n",
       "10    False\n",
       "11    False\n",
       "12    False\n",
       "13    False\n",
       "14    False\n",
       "15    False\n",
       "16    False\n",
       "17    False\n",
       "18    False\n",
       "19    False\n",
       "20    False\n",
       "21    False\n",
       "22    False\n",
       "23    False\n",
       "24    False\n",
       "25    False\n",
       "26    False\n",
       "27    False\n",
       "28    False\n",
       "29    False\n",
       "30    False\n",
       "31    False\n",
       "32    False\n",
       "33    False\n",
       "34    False\n",
       "35    False\n",
       "36    False\n",
       "37    False\n",
       "38    False\n",
       "39    False\n",
       "40    False\n",
       "41    False\n",
       "42    False\n",
       "43    False\n",
       "44    False\n",
       "45    False\n",
       "46    False\n",
       "47    False\n",
       "48    False\n",
       "49    False\n",
       "dtype: bool"
      ]
     },
     "execution_count": 59,
     "metadata": {},
     "output_type": "execute_result"
    }
   ],
   "source": [
    "#checking for duplicates\n",
    "\n",
    "spotify.duplicated(keep = 'first')"
   ]
  },
  {
   "cell_type": "code",
   "execution_count": 72,
   "id": "b9122720",
   "metadata": {},
   "outputs": [],
   "source": [
    "#converting the duration_ms to time format hh:mm:ss\n",
    "\n",
    "spotify['duration_ms'] = pd.to_datetime(spotify['duration_ms'],unit='ms').dt.strftime('%H:%M:%S:%f').str[:-7]\n"
   ]
  },
  {
   "cell_type": "code",
   "execution_count": 73,
   "id": "b46c017c",
   "metadata": {},
   "outputs": [],
   "source": [
    "spotify['duration_ms'] = pd.to_timedelta(spotify['duration_ms'], errors='coerce')"
   ]
  },
  {
   "cell_type": "markdown",
   "id": "ca4acfe8",
   "metadata": {},
   "source": [
    "After exploring the data further, I discovered that the data is clean without any null values or duplicates. However, there are outliers in the dataset which I chose to ignore for this study as we do not extensively analyse the numeric features further and using median instead of mean for average comparison should suffice our need."
   ]
  },
  {
   "cell_type": "markdown",
   "id": "46d41c0b",
   "metadata": {},
   "source": [
    "#### Content Analysis: "
   ]
  },
  {
   "cell_type": "markdown",
   "id": "874a75d9",
   "metadata": {},
   "source": [
    "1 & 2: How many observations and features this dataset has?"
   ]
  },
  {
   "cell_type": "code",
   "execution_count": 25,
   "id": "10de9eca",
   "metadata": {},
   "outputs": [
    {
     "name": "stdout",
     "output_type": "stream",
     "text": [
      "There are 50 observations and 17 features.\n"
     ]
    }
   ],
   "source": [
    "row, col = spotify.shape\n",
    "\n",
    "print(f\"There are {row} observations and {col} features.\")"
   ]
  },
  {
   "cell_type": "markdown",
   "id": "625d814d",
   "metadata": {},
   "source": [
    "3 & 4: which of the features are numerical and which are categorical?"
   ]
  },
  {
   "cell_type": "code",
   "execution_count": 26,
   "id": "6e4a12c2",
   "metadata": {},
   "outputs": [
    {
     "data": {
      "text/plain": [
       "artist               object\n",
       "album                object\n",
       "track_name           object\n",
       "track_id             object\n",
       "energy              float64\n",
       "danceability        float64\n",
       "key                   int64\n",
       "loudness            float64\n",
       "acousticness        float64\n",
       "speechiness         float64\n",
       "instrumentalness    float64\n",
       "liveness            float64\n",
       "valence             float64\n",
       "tempo               float64\n",
       "duration_ms           int64\n",
       "genre                object\n",
       "duration             object\n",
       "dtype: object"
      ]
     },
     "execution_count": 26,
     "metadata": {},
     "output_type": "execute_result"
    }
   ],
   "source": [
    "spotify.dtypes"
   ]
  },
  {
   "cell_type": "markdown",
   "id": "f68e4dd1",
   "metadata": {},
   "source": [
    "There are 5 categorical features with data type object and 11 numerical features."
   ]
  },
  {
   "cell_type": "markdown",
   "id": "f865206b",
   "metadata": {},
   "source": [
    "5: Are there any artists that have more than 1 popular track? If yes, which and how many?\n"
   ]
  },
  {
   "cell_type": "code",
   "execution_count": 251,
   "id": "1a07b099",
   "metadata": {},
   "outputs": [
    {
     "name": "stdout",
     "output_type": "stream",
     "text": [
      "Top artists are:\n"
     ]
    },
    {
     "data": {
      "text/plain": [
       "artist\n",
       "Billie Eilish    3\n",
       "Dua Lipa         3\n",
       "Harry Styles     2\n",
       "Justin Bieber    2\n",
       "Lewis Capaldi    2\n",
       "Post Malone      2\n",
       "Travis Scott     3\n",
       "Name: track_name, dtype: int64"
      ]
     },
     "execution_count": 251,
     "metadata": {},
     "output_type": "execute_result"
    }
   ],
   "source": [
    "artist_track_count = spotify.groupby('artist').track_name.count()\n",
    "\n",
    "top_artists = artist_track_count[artist_track_count>1]\n",
    "print(\"Top artists are:\")\n",
    "top_artists"
   ]
  },
  {
   "cell_type": "markdown",
   "id": "24e76276",
   "metadata": {},
   "source": [
    "There are 7 artists who have multiple songs that got listed into Spotify's 2020 top track list."
   ]
  },
  {
   "cell_type": "markdown",
   "id": "e8a4e0cc",
   "metadata": {},
   "source": [
    "6: Who was the most popular artist?\n"
   ]
  },
  {
   "cell_type": "code",
   "execution_count": 252,
   "id": "9e45b8ca",
   "metadata": {},
   "outputs": [
    {
     "name": "stdout",
     "output_type": "stream",
     "text": [
      "The most popular artist are:\n",
      "artist\n",
      "Billie Eilish    3\n",
      "Dua Lipa         3\n",
      "Travis Scott     3\n",
      "Name: track_name, dtype: int64\n"
     ]
    }
   ],
   "source": [
    "most_popular_artist = artist_track_count[artist_track_count.max() == artist_track_count]\n",
    "print(f\"The most popular artist are:\\n{most_popular_artist}\")"
   ]
  },
  {
   "cell_type": "markdown",
   "id": "1634134c",
   "metadata": {},
   "source": [
    "7: How many artists in total have their songs in the top 50?"
   ]
  },
  {
   "cell_type": "code",
   "execution_count": 253,
   "id": "30c9d665",
   "metadata": {},
   "outputs": [
    {
     "name": "stdout",
     "output_type": "stream",
     "text": [
      "There are 40 artists who have their songs in the top 50.\n"
     ]
    }
   ],
   "source": [
    "print(f\"There are {spotify.artist.nunique()} artists who have their songs in the top 50.\")"
   ]
  },
  {
   "cell_type": "markdown",
   "id": "dc264a93",
   "metadata": {},
   "source": [
    "8: Are there any albums that have more than 1 popular track? If yes, which and how many?"
   ]
  },
  {
   "cell_type": "code",
   "execution_count": 254,
   "id": "c576b6f1",
   "metadata": {},
   "outputs": [
    {
     "name": "stdout",
     "output_type": "stream",
     "text": [
      "The following albums have more than 1 popular track: \n"
     ]
    },
    {
     "data": {
      "text/plain": [
       "album\n",
       "Changes                 2\n",
       "Fine Line               2\n",
       "Future Nostalgia        3\n",
       "Hollywood's Bleeding    2\n",
       "Name: track_name, dtype: int64"
      ]
     },
     "execution_count": 254,
     "metadata": {},
     "output_type": "execute_result"
    }
   ],
   "source": [
    "track_count = spotify.groupby('album').track_name.count()\n",
    "\n",
    "print(f\"The following albums have more than 1 popular track: \")\n",
    "track_count[track_count>1]"
   ]
  },
  {
   "cell_type": "markdown",
   "id": "e7d5ce4d",
   "metadata": {},
   "source": [
    "9: How many albums in total have their songs in the top 50?"
   ]
  },
  {
   "cell_type": "code",
   "execution_count": 255,
   "id": "39e730a0",
   "metadata": {
    "scrolled": true
   },
   "outputs": [
    {
     "name": "stdout",
     "output_type": "stream",
     "text": [
      "45 albums have their songs in the top 50.\n"
     ]
    }
   ],
   "source": [
    "print(f\"{spotify.album.nunique()} albums have their songs in the top 50.\")"
   ]
  },
  {
   "cell_type": "markdown",
   "id": "e0bb3bc1",
   "metadata": {},
   "source": [
    "10: Which tracks have a danceability score above 0.7?"
   ]
  },
  {
   "cell_type": "code",
   "execution_count": 16,
   "id": "5d512015",
   "metadata": {},
   "outputs": [
    {
     "data": {
      "text/html": [
       "<div>\n",
       "<style scoped>\n",
       "    .dataframe tbody tr th:only-of-type {\n",
       "        vertical-align: middle;\n",
       "    }\n",
       "\n",
       "    .dataframe tbody tr th {\n",
       "        vertical-align: top;\n",
       "    }\n",
       "\n",
       "    .dataframe thead th {\n",
       "        text-align: right;\n",
       "    }\n",
       "</style>\n",
       "<table border=\"1\" class=\"dataframe\">\n",
       "  <thead>\n",
       "    <tr style=\"text-align: right;\">\n",
       "      <th></th>\n",
       "      <th>track_name</th>\n",
       "      <th>danceability</th>\n",
       "    </tr>\n",
       "  </thead>\n",
       "  <tbody>\n",
       "    <tr>\n",
       "      <th>1</th>\n",
       "      <td>Dance Monkey</td>\n",
       "      <td>0.825</td>\n",
       "    </tr>\n",
       "    <tr>\n",
       "      <th>2</th>\n",
       "      <td>The Box</td>\n",
       "      <td>0.896</td>\n",
       "    </tr>\n",
       "    <tr>\n",
       "      <th>3</th>\n",
       "      <td>Roses - Imanbek Remix</td>\n",
       "      <td>0.785</td>\n",
       "    </tr>\n",
       "    <tr>\n",
       "      <th>4</th>\n",
       "      <td>Don't Start Now</td>\n",
       "      <td>0.793</td>\n",
       "    </tr>\n",
       "    <tr>\n",
       "      <th>5</th>\n",
       "      <td>ROCKSTAR (feat. Roddy Ricch)</td>\n",
       "      <td>0.746</td>\n",
       "    </tr>\n",
       "    <tr>\n",
       "      <th>7</th>\n",
       "      <td>death bed (coffee for your head)</td>\n",
       "      <td>0.726</td>\n",
       "    </tr>\n",
       "    <tr>\n",
       "      <th>8</th>\n",
       "      <td>Falling</td>\n",
       "      <td>0.784</td>\n",
       "    </tr>\n",
       "    <tr>\n",
       "      <th>10</th>\n",
       "      <td>Tusa</td>\n",
       "      <td>0.803</td>\n",
       "    </tr>\n",
       "    <tr>\n",
       "      <th>13</th>\n",
       "      <td>Blueberry Faygo</td>\n",
       "      <td>0.774</td>\n",
       "    </tr>\n",
       "    <tr>\n",
       "      <th>14</th>\n",
       "      <td>Intentions (feat. Quavo)</td>\n",
       "      <td>0.806</td>\n",
       "    </tr>\n",
       "    <tr>\n",
       "      <th>15</th>\n",
       "      <td>Toosie Slide</td>\n",
       "      <td>0.830</td>\n",
       "    </tr>\n",
       "    <tr>\n",
       "      <th>17</th>\n",
       "      <td>Say So</td>\n",
       "      <td>0.787</td>\n",
       "    </tr>\n",
       "    <tr>\n",
       "      <th>18</th>\n",
       "      <td>Memories</td>\n",
       "      <td>0.764</td>\n",
       "    </tr>\n",
       "    <tr>\n",
       "      <th>19</th>\n",
       "      <td>Life Is Good (feat. Drake)</td>\n",
       "      <td>0.795</td>\n",
       "    </tr>\n",
       "    <tr>\n",
       "      <th>20</th>\n",
       "      <td>Savage Love (Laxed - Siren Beat)</td>\n",
       "      <td>0.767</td>\n",
       "    </tr>\n",
       "    <tr>\n",
       "      <th>22</th>\n",
       "      <td>Breaking Me</td>\n",
       "      <td>0.789</td>\n",
       "    </tr>\n",
       "    <tr>\n",
       "      <th>24</th>\n",
       "      <td>everything i wanted</td>\n",
       "      <td>0.704</td>\n",
       "    </tr>\n",
       "    <tr>\n",
       "      <th>25</th>\n",
       "      <td>Señorita</td>\n",
       "      <td>0.759</td>\n",
       "    </tr>\n",
       "    <tr>\n",
       "      <th>26</th>\n",
       "      <td>bad guy</td>\n",
       "      <td>0.701</td>\n",
       "    </tr>\n",
       "    <tr>\n",
       "      <th>27</th>\n",
       "      <td>WAP (feat. Megan Thee Stallion)</td>\n",
       "      <td>0.935</td>\n",
       "    </tr>\n",
       "    <tr>\n",
       "      <th>28</th>\n",
       "      <td>Sunday Best</td>\n",
       "      <td>0.878</td>\n",
       "    </tr>\n",
       "    <tr>\n",
       "      <th>29</th>\n",
       "      <td>Godzilla (feat. Juice WRLD)</td>\n",
       "      <td>0.808</td>\n",
       "    </tr>\n",
       "    <tr>\n",
       "      <th>31</th>\n",
       "      <td>Break My Heart</td>\n",
       "      <td>0.730</td>\n",
       "    </tr>\n",
       "    <tr>\n",
       "      <th>32</th>\n",
       "      <td>Dynamite</td>\n",
       "      <td>0.746</td>\n",
       "    </tr>\n",
       "    <tr>\n",
       "      <th>33</th>\n",
       "      <td>Supalonely (feat. Gus Dapperton)</td>\n",
       "      <td>0.862</td>\n",
       "    </tr>\n",
       "    <tr>\n",
       "      <th>37</th>\n",
       "      <td>Sunflower - Spider-Man: Into the Spider-Verse</td>\n",
       "      <td>0.755</td>\n",
       "    </tr>\n",
       "    <tr>\n",
       "      <th>38</th>\n",
       "      <td>Hawái</td>\n",
       "      <td>0.783</td>\n",
       "    </tr>\n",
       "    <tr>\n",
       "      <th>39</th>\n",
       "      <td>Ride It</td>\n",
       "      <td>0.880</td>\n",
       "    </tr>\n",
       "    <tr>\n",
       "      <th>40</th>\n",
       "      <td>goosebumps</td>\n",
       "      <td>0.841</td>\n",
       "    </tr>\n",
       "    <tr>\n",
       "      <th>41</th>\n",
       "      <td>RITMO (Bad Boys For Life)</td>\n",
       "      <td>0.723</td>\n",
       "    </tr>\n",
       "    <tr>\n",
       "      <th>42</th>\n",
       "      <td>THE SCOTTS</td>\n",
       "      <td>0.716</td>\n",
       "    </tr>\n",
       "    <tr>\n",
       "      <th>49</th>\n",
       "      <td>SICKO MODE</td>\n",
       "      <td>0.834</td>\n",
       "    </tr>\n",
       "  </tbody>\n",
       "</table>\n",
       "</div>"
      ],
      "text/plain": [
       "                                       track_name  danceability\n",
       "1                                    Dance Monkey         0.825\n",
       "2                                         The Box         0.896\n",
       "3                           Roses - Imanbek Remix         0.785\n",
       "4                                 Don't Start Now         0.793\n",
       "5                    ROCKSTAR (feat. Roddy Ricch)         0.746\n",
       "7                death bed (coffee for your head)         0.726\n",
       "8                                         Falling         0.784\n",
       "10                                           Tusa         0.803\n",
       "13                                Blueberry Faygo         0.774\n",
       "14                       Intentions (feat. Quavo)         0.806\n",
       "15                                   Toosie Slide         0.830\n",
       "17                                         Say So         0.787\n",
       "18                                       Memories         0.764\n",
       "19                     Life Is Good (feat. Drake)         0.795\n",
       "20               Savage Love (Laxed - Siren Beat)         0.767\n",
       "22                                    Breaking Me         0.789\n",
       "24                            everything i wanted         0.704\n",
       "25                                       Señorita         0.759\n",
       "26                                        bad guy         0.701\n",
       "27                WAP (feat. Megan Thee Stallion)         0.935\n",
       "28                                    Sunday Best         0.878\n",
       "29                    Godzilla (feat. Juice WRLD)         0.808\n",
       "31                                 Break My Heart         0.730\n",
       "32                                       Dynamite         0.746\n",
       "33               Supalonely (feat. Gus Dapperton)         0.862\n",
       "37  Sunflower - Spider-Man: Into the Spider-Verse         0.755\n",
       "38                                          Hawái         0.783\n",
       "39                                        Ride It         0.880\n",
       "40                                     goosebumps         0.841\n",
       "41                      RITMO (Bad Boys For Life)         0.723\n",
       "42                                     THE SCOTTS         0.716\n",
       "49                                     SICKO MODE         0.834"
      ]
     },
     "execution_count": 16,
     "metadata": {},
     "output_type": "execute_result"
    }
   ],
   "source": [
    "spotify[['track_name', 'danceability']][spotify.danceability>0.7]"
   ]
  },
  {
   "cell_type": "markdown",
   "id": "bedbc323",
   "metadata": {},
   "source": [
    "Out of 50, 32 songs have danceability score greater than 0.7. Majority of the songs that are in top 10 have danceability score greater than 0.7. "
   ]
  },
  {
   "cell_type": "markdown",
   "id": "13ddaadf",
   "metadata": {},
   "source": [
    "11: Which tracks have a danceability score below 0.4?"
   ]
  },
  {
   "cell_type": "code",
   "execution_count": 257,
   "id": "e8cff48c",
   "metadata": {
    "scrolled": true
   },
   "outputs": [
    {
     "data": {
      "text/html": [
       "<div>\n",
       "<style scoped>\n",
       "    .dataframe tbody tr th:only-of-type {\n",
       "        vertical-align: middle;\n",
       "    }\n",
       "\n",
       "    .dataframe tbody tr th {\n",
       "        vertical-align: top;\n",
       "    }\n",
       "\n",
       "    .dataframe thead th {\n",
       "        text-align: right;\n",
       "    }\n",
       "</style>\n",
       "<table border=\"1\" class=\"dataframe\">\n",
       "  <thead>\n",
       "    <tr style=\"text-align: right;\">\n",
       "      <th></th>\n",
       "      <th>track_name</th>\n",
       "      <th>danceability</th>\n",
       "    </tr>\n",
       "  </thead>\n",
       "  <tbody>\n",
       "    <tr>\n",
       "      <th>44</th>\n",
       "      <td>lovely (with Khalid)</td>\n",
       "      <td>0.351</td>\n",
       "    </tr>\n",
       "  </tbody>\n",
       "</table>\n",
       "</div>"
      ],
      "text/plain": [
       "              track_name  danceability\n",
       "44  lovely (with Khalid)         0.351"
      ]
     },
     "execution_count": 257,
     "metadata": {},
     "output_type": "execute_result"
    }
   ],
   "source": [
    "spotify[['track_name', 'danceability']][spotify.danceability<0.4]"
   ]
  },
  {
   "cell_type": "markdown",
   "id": "72407dfd",
   "metadata": {},
   "source": [
    "12: Which tracks have their loudness above -5?"
   ]
  },
  {
   "cell_type": "code",
   "execution_count": 18,
   "id": "d8a0c24f",
   "metadata": {},
   "outputs": [
    {
     "data": {
      "text/html": [
       "<div>\n",
       "<style scoped>\n",
       "    .dataframe tbody tr th:only-of-type {\n",
       "        vertical-align: middle;\n",
       "    }\n",
       "\n",
       "    .dataframe tbody tr th {\n",
       "        vertical-align: top;\n",
       "    }\n",
       "\n",
       "    .dataframe thead th {\n",
       "        text-align: right;\n",
       "    }\n",
       "</style>\n",
       "<table border=\"1\" class=\"dataframe\">\n",
       "  <thead>\n",
       "    <tr style=\"text-align: right;\">\n",
       "      <th></th>\n",
       "      <th>track_name</th>\n",
       "      <th>loudness</th>\n",
       "    </tr>\n",
       "  </thead>\n",
       "  <tbody>\n",
       "    <tr>\n",
       "      <th>4</th>\n",
       "      <td>Don't Start Now</td>\n",
       "      <td>-4.521</td>\n",
       "    </tr>\n",
       "    <tr>\n",
       "      <th>6</th>\n",
       "      <td>Watermelon Sugar</td>\n",
       "      <td>-4.209</td>\n",
       "    </tr>\n",
       "    <tr>\n",
       "      <th>10</th>\n",
       "      <td>Tusa</td>\n",
       "      <td>-3.280</td>\n",
       "    </tr>\n",
       "    <tr>\n",
       "      <th>12</th>\n",
       "      <td>Circles</td>\n",
       "      <td>-3.497</td>\n",
       "    </tr>\n",
       "    <tr>\n",
       "      <th>16</th>\n",
       "      <td>Before You Go</td>\n",
       "      <td>-4.858</td>\n",
       "    </tr>\n",
       "    <tr>\n",
       "      <th>17</th>\n",
       "      <td>Say So</td>\n",
       "      <td>-4.577</td>\n",
       "    </tr>\n",
       "    <tr>\n",
       "      <th>21</th>\n",
       "      <td>Adore You</td>\n",
       "      <td>-3.675</td>\n",
       "    </tr>\n",
       "    <tr>\n",
       "      <th>23</th>\n",
       "      <td>Mood (feat. iann dior)</td>\n",
       "      <td>-3.558</td>\n",
       "    </tr>\n",
       "    <tr>\n",
       "      <th>31</th>\n",
       "      <td>Break My Heart</td>\n",
       "      <td>-3.434</td>\n",
       "    </tr>\n",
       "    <tr>\n",
       "      <th>32</th>\n",
       "      <td>Dynamite</td>\n",
       "      <td>-4.410</td>\n",
       "    </tr>\n",
       "    <tr>\n",
       "      <th>33</th>\n",
       "      <td>Supalonely (feat. Gus Dapperton)</td>\n",
       "      <td>-4.746</td>\n",
       "    </tr>\n",
       "    <tr>\n",
       "      <th>35</th>\n",
       "      <td>Rain On Me (with Ariana Grande)</td>\n",
       "      <td>-3.764</td>\n",
       "    </tr>\n",
       "    <tr>\n",
       "      <th>37</th>\n",
       "      <td>Sunflower - Spider-Man: Into the Spider-Verse</td>\n",
       "      <td>-4.368</td>\n",
       "    </tr>\n",
       "    <tr>\n",
       "      <th>38</th>\n",
       "      <td>Hawái</td>\n",
       "      <td>-3.454</td>\n",
       "    </tr>\n",
       "    <tr>\n",
       "      <th>39</th>\n",
       "      <td>Ride It</td>\n",
       "      <td>-4.258</td>\n",
       "    </tr>\n",
       "    <tr>\n",
       "      <th>40</th>\n",
       "      <td>goosebumps</td>\n",
       "      <td>-3.370</td>\n",
       "    </tr>\n",
       "    <tr>\n",
       "      <th>43</th>\n",
       "      <td>Safaera</td>\n",
       "      <td>-4.074</td>\n",
       "    </tr>\n",
       "    <tr>\n",
       "      <th>48</th>\n",
       "      <td>Physical</td>\n",
       "      <td>-3.756</td>\n",
       "    </tr>\n",
       "    <tr>\n",
       "      <th>49</th>\n",
       "      <td>SICKO MODE</td>\n",
       "      <td>-3.714</td>\n",
       "    </tr>\n",
       "  </tbody>\n",
       "</table>\n",
       "</div>"
      ],
      "text/plain": [
       "                                       track_name  loudness\n",
       "4                                 Don't Start Now    -4.521\n",
       "6                                Watermelon Sugar    -4.209\n",
       "10                                           Tusa    -3.280\n",
       "12                                        Circles    -3.497\n",
       "16                                  Before You Go    -4.858\n",
       "17                                         Say So    -4.577\n",
       "21                                      Adore You    -3.675\n",
       "23                         Mood (feat. iann dior)    -3.558\n",
       "31                                 Break My Heart    -3.434\n",
       "32                                       Dynamite    -4.410\n",
       "33               Supalonely (feat. Gus Dapperton)    -4.746\n",
       "35                Rain On Me (with Ariana Grande)    -3.764\n",
       "37  Sunflower - Spider-Man: Into the Spider-Verse    -4.368\n",
       "38                                          Hawái    -3.454\n",
       "39                                        Ride It    -4.258\n",
       "40                                     goosebumps    -3.370\n",
       "43                                        Safaera    -4.074\n",
       "48                                       Physical    -3.756\n",
       "49                                     SICKO MODE    -3.714"
      ]
     },
     "execution_count": 18,
     "metadata": {},
     "output_type": "execute_result"
    }
   ],
   "source": [
    "spotify[['track_name', 'loudness']][spotify.loudness>-5]"
   ]
  },
  {
   "cell_type": "code",
   "execution_count": null,
   "id": "432c4890",
   "metadata": {},
   "outputs": [],
   "source": [
    "19 of the soundtracks have loudness greater that -5."
   ]
  },
  {
   "cell_type": "markdown",
   "id": "5160b936",
   "metadata": {},
   "source": [
    "13: Which tracks have their loudness below -8?"
   ]
  },
  {
   "cell_type": "code",
   "execution_count": 259,
   "id": "8538cbbe",
   "metadata": {},
   "outputs": [
    {
     "data": {
      "text/html": [
       "<div>\n",
       "<style scoped>\n",
       "    .dataframe tbody tr th:only-of-type {\n",
       "        vertical-align: middle;\n",
       "    }\n",
       "\n",
       "    .dataframe tbody tr th {\n",
       "        vertical-align: top;\n",
       "    }\n",
       "\n",
       "    .dataframe thead th {\n",
       "        text-align: right;\n",
       "    }\n",
       "</style>\n",
       "<table border=\"1\" class=\"dataframe\">\n",
       "  <thead>\n",
       "    <tr style=\"text-align: right;\">\n",
       "      <th></th>\n",
       "      <th>track_name</th>\n",
       "      <th>loudness</th>\n",
       "    </tr>\n",
       "  </thead>\n",
       "  <tbody>\n",
       "    <tr>\n",
       "      <th>7</th>\n",
       "      <td>death bed (coffee for your head)</td>\n",
       "      <td>-8.765</td>\n",
       "    </tr>\n",
       "    <tr>\n",
       "      <th>8</th>\n",
       "      <td>Falling</td>\n",
       "      <td>-8.756</td>\n",
       "    </tr>\n",
       "    <tr>\n",
       "      <th>15</th>\n",
       "      <td>Toosie Slide</td>\n",
       "      <td>-8.820</td>\n",
       "    </tr>\n",
       "    <tr>\n",
       "      <th>20</th>\n",
       "      <td>Savage Love (Laxed - Siren Beat)</td>\n",
       "      <td>-8.520</td>\n",
       "    </tr>\n",
       "    <tr>\n",
       "      <th>24</th>\n",
       "      <td>everything i wanted</td>\n",
       "      <td>-14.454</td>\n",
       "    </tr>\n",
       "    <tr>\n",
       "      <th>26</th>\n",
       "      <td>bad guy</td>\n",
       "      <td>-10.965</td>\n",
       "    </tr>\n",
       "    <tr>\n",
       "      <th>36</th>\n",
       "      <td>HIGHEST IN THE ROOM</td>\n",
       "      <td>-8.764</td>\n",
       "    </tr>\n",
       "    <tr>\n",
       "      <th>44</th>\n",
       "      <td>lovely (with Khalid)</td>\n",
       "      <td>-10.109</td>\n",
       "    </tr>\n",
       "    <tr>\n",
       "      <th>47</th>\n",
       "      <td>If the World Was Ending - feat. Julia Michaels</td>\n",
       "      <td>-10.086</td>\n",
       "    </tr>\n",
       "  </tbody>\n",
       "</table>\n",
       "</div>"
      ],
      "text/plain": [
       "                                        track_name  loudness\n",
       "7                 death bed (coffee for your head)    -8.765\n",
       "8                                          Falling    -8.756\n",
       "15                                    Toosie Slide    -8.820\n",
       "20                Savage Love (Laxed - Siren Beat)    -8.520\n",
       "24                             everything i wanted   -14.454\n",
       "26                                         bad guy   -10.965\n",
       "36                             HIGHEST IN THE ROOM    -8.764\n",
       "44                            lovely (with Khalid)   -10.109\n",
       "47  If the World Was Ending - feat. Julia Michaels   -10.086"
      ]
     },
     "execution_count": 259,
     "metadata": {},
     "output_type": "execute_result"
    }
   ],
   "source": [
    "spotify[['track_name', 'loudness']][spotify.loudness<-8]"
   ]
  },
  {
   "cell_type": "markdown",
   "id": "02c88f54",
   "metadata": {},
   "source": [
    "14: Which track is the longest?"
   ]
  },
  {
   "cell_type": "code",
   "execution_count": 80,
   "id": "c78c2bab",
   "metadata": {},
   "outputs": [
    {
     "name": "stdout",
     "output_type": "stream",
     "text": [
      "The longest track is SICKO MODE with duration 00:05:12 seconds.\n"
     ]
    }
   ],
   "source": [
    "longest = spotify.iloc[spotify.duration_ms.idxmax()]\n",
    "\n",
    "longest_duration = str(longest.duration_ms).split(\" \")[-1]  # Extracts only the time portion\n",
    "\n",
    "print(f\"The longest track is {longest.track_name} with duration {longest_duration} seconds.\")"
   ]
  },
  {
   "cell_type": "markdown",
   "id": "a883df0b",
   "metadata": {},
   "source": [
    "15: Which track is the shortest?"
   ]
  },
  {
   "cell_type": "code",
   "execution_count": 82,
   "id": "5f2a242e",
   "metadata": {},
   "outputs": [
    {
     "name": "stdout",
     "output_type": "stream",
     "text": [
      "The shortest track is Mood (feat. iann dior) with duration 00:02:20 seconds.\n"
     ]
    }
   ],
   "source": [
    "shortest = spotify.iloc[spotify.duration_ms.idxmin()]\n",
    "\n",
    "shortest_duration = str(shortest.duration_ms).split(\" \")[-1]  # Extracts only the time portion\n",
    "\n",
    "print(f\"The shortest track is {shortest.track_name} with duration {shortest_duration} seconds.\")"
   ]
  },
  {
   "cell_type": "markdown",
   "id": "5fb3c9e4",
   "metadata": {},
   "source": [
    "16: Which genre is the most popular?"
   ]
  },
  {
   "cell_type": "code",
   "execution_count": 262,
   "id": "abdedf92",
   "metadata": {},
   "outputs": [
    {
     "name": "stdout",
     "output_type": "stream",
     "text": [
      "The most popular is: \n",
      "Pop    14\n",
      "Name: genre, dtype: int64\n"
     ]
    }
   ],
   "source": [
    "print(f\"The most popular is: \\n{spotify.genre.value_counts().head(1)}\")"
   ]
  },
  {
   "cell_type": "markdown",
   "id": "d79c5e51",
   "metadata": {},
   "source": [
    "17: Which genres have just one song on the top 50?"
   ]
  },
  {
   "cell_type": "code",
   "execution_count": 263,
   "id": "0c58ee57",
   "metadata": {},
   "outputs": [
    {
     "data": {
      "text/plain": [
       "genre\n",
       "Alternative/reggaeton/experimental    1\n",
       "Chamber pop                           1\n",
       "Dance-pop/Disco                       1\n",
       "Disco-pop                             1\n",
       "Dreampop/Hip-Hop/R&B                  1\n",
       "Hip-Hop/Trap                          1\n",
       "Nu-disco                              1\n",
       "Pop rap                               1\n",
       "Pop/Soft Rock                         1\n",
       "R&B/Hip-Hop alternative               1\n",
       "Name: track_name, dtype: int64"
      ]
     },
     "execution_count": 263,
     "metadata": {},
     "output_type": "execute_result"
    }
   ],
   "source": [
    "num_of_songs = spotify.groupby('genre').track_name.count()\n",
    "num_of_songs[num_of_songs == 1]\n"
   ]
  },
  {
   "cell_type": "markdown",
   "id": "8d2c963b",
   "metadata": {},
   "source": [
    "18: How many genres in total are represented in the top 50?"
   ]
  },
  {
   "cell_type": "code",
   "execution_count": 264,
   "id": "a7b467d0",
   "metadata": {},
   "outputs": [
    {
     "name": "stdout",
     "output_type": "stream",
     "text": [
      "The total genre represented in the top 50 is 16.\n"
     ]
    }
   ],
   "source": [
    "print(f\"The total genre represented in the top 50 is {spotify.genre.nunique()}.\")"
   ]
  },
  {
   "cell_type": "markdown",
   "id": "a6541321",
   "metadata": {},
   "source": [
    "19: Which features are strongly positively correlated?"
   ]
  },
  {
   "cell_type": "code",
   "execution_count": 265,
   "id": "524eee42",
   "metadata": {},
   "outputs": [
    {
     "name": "stdout",
     "output_type": "stream",
     "text": [
      "Strongly positively correlated features:\n"
     ]
    },
    {
     "data": {
      "text/html": [
       "<div>\n",
       "<style scoped>\n",
       "    .dataframe tbody tr th:only-of-type {\n",
       "        vertical-align: middle;\n",
       "    }\n",
       "\n",
       "    .dataframe tbody tr th {\n",
       "        vertical-align: top;\n",
       "    }\n",
       "\n",
       "    .dataframe thead th {\n",
       "        text-align: right;\n",
       "    }\n",
       "</style>\n",
       "<table border=\"1\" class=\"dataframe\">\n",
       "  <thead>\n",
       "    <tr style=\"text-align: right;\">\n",
       "      <th></th>\n",
       "      <th>energy</th>\n",
       "      <th>loudness</th>\n",
       "    </tr>\n",
       "  </thead>\n",
       "  <tbody>\n",
       "    <tr>\n",
       "      <th>energy</th>\n",
       "      <td>NaN</td>\n",
       "      <td>0.79164</td>\n",
       "    </tr>\n",
       "    <tr>\n",
       "      <th>loudness</th>\n",
       "      <td>0.79164</td>\n",
       "      <td>NaN</td>\n",
       "    </tr>\n",
       "  </tbody>\n",
       "</table>\n",
       "</div>"
      ],
      "text/plain": [
       "           energy  loudness\n",
       "energy        NaN   0.79164\n",
       "loudness  0.79164       NaN"
      ]
     },
     "execution_count": 265,
     "metadata": {},
     "output_type": "execute_result"
    }
   ],
   "source": [
    "numeric_feat = spotify.select_dtypes(include='number')\n",
    "correlation_matrix = numeric_feat.corr()\n",
    "\n",
    "threshold = 0.7\n",
    "\n",
    "strong_positive_corr = correlation_matrix[(correlation_matrix > threshold) & (correlation_matrix < 1.0)]\n",
    "\n",
    "print(\"Strongly positively correlated features:\")\n",
    "strong_positive_corr.dropna(how='all', axis=0).dropna(how='all', axis=1)"
   ]
  },
  {
   "cell_type": "markdown",
   "id": "0bd660a6",
   "metadata": {},
   "source": [
    "20: Which features are strongly negatively correlated?"
   ]
  },
  {
   "cell_type": "code",
   "execution_count": 271,
   "id": "864d69b0",
   "metadata": {},
   "outputs": [
    {
     "name": "stdout",
     "output_type": "stream",
     "text": [
      "Strongly negatively correlated features: \n"
     ]
    },
    {
     "data": {
      "text/html": [
       "<div>\n",
       "<style scoped>\n",
       "    .dataframe tbody tr th:only-of-type {\n",
       "        vertical-align: middle;\n",
       "    }\n",
       "\n",
       "    .dataframe tbody tr th {\n",
       "        vertical-align: top;\n",
       "    }\n",
       "\n",
       "    .dataframe thead th {\n",
       "        text-align: right;\n",
       "    }\n",
       "</style>\n",
       "<table border=\"1\" class=\"dataframe\">\n",
       "  <thead>\n",
       "    <tr style=\"text-align: right;\">\n",
       "      <th></th>\n",
       "      <th>energy</th>\n",
       "      <th>acousticness</th>\n",
       "    </tr>\n",
       "  </thead>\n",
       "  <tbody>\n",
       "    <tr>\n",
       "      <th>energy</th>\n",
       "      <td>NaN</td>\n",
       "      <td>-0.682479</td>\n",
       "    </tr>\n",
       "    <tr>\n",
       "      <th>acousticness</th>\n",
       "      <td>-0.682479</td>\n",
       "      <td>NaN</td>\n",
       "    </tr>\n",
       "  </tbody>\n",
       "</table>\n",
       "</div>"
      ],
      "text/plain": [
       "                energy  acousticness\n",
       "energy             NaN     -0.682479\n",
       "acousticness -0.682479           NaN"
      ]
     },
     "execution_count": 271,
     "metadata": {},
     "output_type": "execute_result"
    }
   ],
   "source": [
    "numeric_feat = spotify.select_dtypes(include='number')\n",
    "correlation_matrix = numeric_feat.corr()\n",
    "\n",
    "threshold = -0.6\n",
    "\n",
    "strong_negative_corr = correlation_matrix[(correlation_matrix < threshold) & (correlation_matrix > -1.0)]\n",
    "\n",
    "print(\"Strongly negatively correlated features: \")\n",
    "strong_negative_corr.dropna(how='all', axis=0).dropna(how='all', axis=1)\n"
   ]
  },
  {
   "cell_type": "markdown",
   "id": "d4ab8eb4",
   "metadata": {},
   "source": [
    "21: Which features are not correlated?"
   ]
  },
  {
   "cell_type": "code",
   "execution_count": 110,
   "id": "1b5ce8a0",
   "metadata": {},
   "outputs": [
    {
     "name": "stdout",
     "output_type": "stream",
     "text": [
      "Features that do not correlate are:\n"
     ]
    },
    {
     "data": {
      "text/plain": [
       "energy            key                 0.062428\n",
       "                  speechiness         0.074267\n",
       "                  liveness            0.069487\n",
       "                  tempo               0.075191\n",
       "danceability      instrumentalness   -0.017706\n",
       "                  liveness           -0.006648\n",
       "key               loudness           -0.009178\n",
       "                  speechiness        -0.094965\n",
       "                  instrumentalness    0.020802\n",
       "                  tempo               0.080475\n",
       "loudness          speechiness        -0.021693\n",
       "                  liveness           -0.069939\n",
       "speechiness       instrumentalness    0.028948\n",
       "                  valence             0.053867\n",
       "instrumentalness  liveness           -0.087034\n",
       "                  tempo               0.018853\n",
       "liveness          valence            -0.033366\n",
       "                  tempo               0.025457\n",
       "valence           tempo               0.045089\n",
       "dtype: float64"
      ]
     },
     "execution_count": 110,
     "metadata": {},
     "output_type": "execute_result"
    }
   ],
   "source": [
    "numeric_feat = spotify.select_dtypes(include='number')\n",
    "correlation_matrix = numeric_feat.corr()\n",
    "\n",
    "low_threshold = -0.1\n",
    "\n",
    "up_threshold = 0.1\n",
    "\n",
    "no_corr = correlation_matrix[(correlation_matrix > low_threshold) & (correlation_matrix < up_threshold)]\n",
    "\n",
    "print(\"Features that do not correlate are:\")\n",
    "no_corr.stack().drop_duplicates(keep = 'first', inplace = False)"
   ]
  },
  {
   "cell_type": "markdown",
   "id": "fcbd2774",
   "metadata": {},
   "source": [
    "22: How does the danceability score compare between Pop, Hip-Hop/Rap, Dance/Electronic, and Alternative/Indie genres?"
   ]
  },
  {
   "cell_type": "code",
   "execution_count": 84,
   "id": "056d08e5",
   "metadata": {},
   "outputs": [
    {
     "name": "stdout",
     "output_type": "stream",
     "text": [
      "The danceability score comparrison with Pop, Hip-Hop/Rap, Dance/Electronic, and Alternative/Indie genres: \n"
     ]
    },
    {
     "data": {
      "text/plain": [
       "genre\n",
       "Alternative/Indie    0.663\n",
       "Dance/Electronic     0.785\n",
       "Hip-Hop/Rap          0.774\n",
       "Pop                  0.690\n",
       "Name: danceability, dtype: float64"
      ]
     },
     "execution_count": 84,
     "metadata": {},
     "output_type": "execute_result"
    }
   ],
   "source": [
    "genre_dance_score = spotify.groupby('genre').danceability.median()\n",
    "select_genre = ['Pop', 'Hip-Hop/Rap', 'Dance/Electronic', 'Alternative/Indie']\n",
    "\n",
    "print(\"The danceability score comparrison with Pop, Hip-Hop/Rap, Dance/Electronic, and Alternative/Indie genres: \")\n",
    "\n",
    "genre_dance_score[genre_dance_score.index.isin(select_genre)]\n"
   ]
  },
  {
   "cell_type": "markdown",
   "id": "715d71b9",
   "metadata": {},
   "source": [
    "23: How does the loudness score compare between Pop, Hip-Hop/Rap, Dance/Electronic, and Alternative/Indie genres?"
   ]
  },
  {
   "cell_type": "code",
   "execution_count": 85,
   "id": "f62ad408",
   "metadata": {},
   "outputs": [
    {
     "name": "stdout",
     "output_type": "stream",
     "text": [
      "The loudness score comparrison with Pop, Hip-Hop/Rap, Dance/Electronic, and Alternative/Indie genres: \n"
     ]
    },
    {
     "data": {
      "text/plain": [
       "genre\n",
       "Alternative/Indie   -5.2685\n",
       "Dance/Electronic    -5.4570\n",
       "Hip-Hop/Rap         -7.6480\n",
       "Pop                 -6.6445\n",
       "Name: loudness, dtype: float64"
      ]
     },
     "execution_count": 85,
     "metadata": {},
     "output_type": "execute_result"
    }
   ],
   "source": [
    "genre_loudness_score = spotify.groupby('genre').loudness.median()\n",
    "\n",
    "print(\"The loudness score comparrison with Pop, Hip-Hop/Rap, Dance/Electronic, and Alternative/Indie genres: \")\n",
    "genre_loudness_score[genre_loudness_score.index.isin(select_genre)]"
   ]
  },
  {
   "cell_type": "markdown",
   "id": "9762963a",
   "metadata": {},
   "source": [
    "24: How does the acousticness score compare between Pop, Hip-Hop/Rap, Dance/Electronic, and Alternative/Indie genres?"
   ]
  },
  {
   "cell_type": "code",
   "execution_count": 86,
   "id": "0105335f",
   "metadata": {},
   "outputs": [
    {
     "name": "stdout",
     "output_type": "stream",
     "text": [
      "The acousticness score comparrison with Pop, Hip-Hop/Rap, Dance/Electronic, and Alternative/Indie genres: \n"
     ]
    },
    {
     "data": {
      "text/plain": [
       "genre\n",
       "Alternative/Indie    0.6460\n",
       "Dance/Electronic     0.0686\n",
       "Hip-Hop/Rap          0.1450\n",
       "Pop                  0.2590\n",
       "Name: acousticness, dtype: float64"
      ]
     },
     "execution_count": 86,
     "metadata": {},
     "output_type": "execute_result"
    }
   ],
   "source": [
    "genre_acoustic_score = spotify.groupby('genre').acousticness.median()\n",
    "\n",
    "print(\"The acousticness score comparrison with Pop, Hip-Hop/Rap, Dance/Electronic, and Alternative/Indie genres: \")\n",
    "genre_acoustic_score[genre_acoustic_score.index.isin(select_genre)]\n"
   ]
  }
 ],
 "metadata": {
  "kernelspec": {
   "display_name": "Python 3 (ipykernel)",
   "language": "python",
   "name": "python3"
  },
  "language_info": {
   "codemirror_mode": {
    "name": "ipython",
    "version": 3
   },
   "file_extension": ".py",
   "mimetype": "text/x-python",
   "name": "python",
   "nbconvert_exporter": "python",
   "pygments_lexer": "ipython3",
   "version": "3.9.12"
  }
 },
 "nbformat": 4,
 "nbformat_minor": 5
}
