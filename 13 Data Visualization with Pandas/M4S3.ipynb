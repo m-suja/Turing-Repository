{
 "cells": [
  {
   "cell_type": "markdown",
   "id": "d084a3d6",
   "metadata": {},
   "source": [
    "# Coursera Dataset Analysis"
   ]
  },
  {
   "cell_type": "markdown",
   "id": "b0fab0bd",
   "metadata": {},
   "source": [
    "### About Coursera\n",
    "\n",
    "Coursera was launched in 2012 by two Stanford Computer Science professors, Andrew Ng and Daphne Koller, with a mission to provide universal access to world-class learning. It is now one of the largest online learning platforms in the world, with 124 million registered learners as of March 31, 2023. Coursera partners with over 300 leading university and industry partners to offer a broad catalog of content and credentials, including courses, Specializations, Professional Certificates, Guided Projects, and bachelor’s and master’s degrees. \n",
    "\n",
    "Institutions around the world use Coursera to upskill and reskill their employees, citizens, and students in fields such as data science, technology, and business. Coursera became a Delaware public benefit corporation and a B Corp in February 2021."
   ]
  },
  {
   "cell_type": "markdown",
   "id": "0e11982b",
   "metadata": {},
   "source": [
    "### About the Dataset\n",
    "This dataset contains mainly 6 columns and 890 course data. \n",
    "\n",
    "The detailed description:\n",
    "1. course_title : Contains the course title.\n",
    "\n",
    "2. course_organization : It tells which organization is conducting the courses.\n",
    "\n",
    "3. course_Certificate_type : It has details about what are the different certifications available in courses.\n",
    "\n",
    "4. course_rating : It has the ratings associated with each course.\n",
    "\n",
    "5. course_difficulty : It tells about how difficult or what is the level of the course.\n",
    "\n",
    "6. course_students_enrolled : It has the number of students that are enrolled in the course."
   ]
  },
  {
   "cell_type": "markdown",
   "id": "9a748bb8",
   "metadata": {},
   "source": [
    "### Objectives\n",
    "\n",
    "To unlock opportunities for the stakeholders that will drive improvement and promotion of the platform and the courses by:\n",
    "\n",
    "* Optimizing course offerings based on popularity and demand.\n",
    "* Understanding which course difficulty levels attract the most students.\n",
    "* Determining the most sought-after certification types.\n",
    "* Analyzing ratings to improve course content and student satisfaction."
   ]
  },
  {
   "cell_type": "markdown",
   "id": "0e09fb73",
   "metadata": {},
   "source": [
    "### Stakeholders (Potential)\n",
    "\n",
    "* Course Manager: Oversees the overall management of courses on the platform.    \n",
    "* Instructional Designer: Designs courses to be engaging and effective.\n",
    "* Instructors/Trainers: Deliver live sessions or record instructional videos.\n",
    "* Marketing/Product Specialist: Promotes courses to attract learners."
   ]
  },
  {
   "cell_type": "markdown",
   "id": "ccadda67",
   "metadata": {},
   "source": [
    "### Data Loading and Initialization"
   ]
  },
  {
   "cell_type": "code",
   "execution_count": 3,
   "id": "0fec6eda",
   "metadata": {},
   "outputs": [],
   "source": [
    "import pandas as pd\n",
    "import numpy as np\n",
    "import matplotlib.pyplot as plt\n",
    "import matplotlib.ticker as mtick\n",
    "import os\n",
    "%matplotlib inline\n",
    "import seaborn as sns"
   ]
  },
  {
   "cell_type": "code",
   "execution_count": 4,
   "id": "f56ecd10",
   "metadata": {},
   "outputs": [],
   "source": [
    "coursera = pd.read_csv(\"coursera_data.csv\")"
   ]
  },
  {
   "cell_type": "markdown",
   "id": "a07c06b5",
   "metadata": {},
   "source": [
    "### Data Cleaning and Exploration"
   ]
  },
  {
   "cell_type": "markdown",
   "id": "63644c71",
   "metadata": {},
   "source": [
    "Exploring the columns in the dataset and familiarizing with the data."
   ]
  },
  {
   "cell_type": "code",
   "execution_count": 9,
   "id": "735ca6a7",
   "metadata": {},
   "outputs": [
    {
     "data": {
      "text/plain": [
       "Index(['course_title', 'course_organization', 'course_Certificate_type',\n",
       "       'course_rating', 'course_difficulty', 'course_students_enrolled'],\n",
       "      dtype='object')"
      ]
     },
     "execution_count": 9,
     "metadata": {},
     "output_type": "execute_result"
    }
   ],
   "source": [
    "coursera.columns"
   ]
  },
  {
   "cell_type": "markdown",
   "id": "4599cf0e",
   "metadata": {},
   "source": [
    "Dropping unnamed column as in the original dataset, it was used only for counting and served no further purpose."
   ]
  },
  {
   "cell_type": "code",
   "execution_count": 5,
   "id": "76cd1872",
   "metadata": {},
   "outputs": [],
   "source": [
    "coursera = coursera.drop(\"Unnamed: 0\", axis =1)"
   ]
  },
  {
   "cell_type": "code",
   "execution_count": 6,
   "id": "575046c7",
   "metadata": {},
   "outputs": [
    {
     "data": {
      "text/html": [
       "<div>\n",
       "<style scoped>\n",
       "    .dataframe tbody tr th:only-of-type {\n",
       "        vertical-align: middle;\n",
       "    }\n",
       "\n",
       "    .dataframe tbody tr th {\n",
       "        vertical-align: top;\n",
       "    }\n",
       "\n",
       "    .dataframe thead th {\n",
       "        text-align: right;\n",
       "    }\n",
       "</style>\n",
       "<table border=\"1\" class=\"dataframe\">\n",
       "  <thead>\n",
       "    <tr style=\"text-align: right;\">\n",
       "      <th></th>\n",
       "      <th>course_title</th>\n",
       "      <th>course_organization</th>\n",
       "      <th>course_Certificate_type</th>\n",
       "      <th>course_rating</th>\n",
       "      <th>course_difficulty</th>\n",
       "      <th>course_students_enrolled</th>\n",
       "    </tr>\n",
       "  </thead>\n",
       "  <tbody>\n",
       "    <tr>\n",
       "      <th>0</th>\n",
       "      <td>(ISC)² Systems Security Certified Practitioner...</td>\n",
       "      <td>(ISC)²</td>\n",
       "      <td>SPECIALIZATION</td>\n",
       "      <td>4.7</td>\n",
       "      <td>Beginner</td>\n",
       "      <td>5.3k</td>\n",
       "    </tr>\n",
       "    <tr>\n",
       "      <th>1</th>\n",
       "      <td>A Crash Course in Causality:  Inferring Causal...</td>\n",
       "      <td>University of Pennsylvania</td>\n",
       "      <td>COURSE</td>\n",
       "      <td>4.7</td>\n",
       "      <td>Intermediate</td>\n",
       "      <td>17k</td>\n",
       "    </tr>\n",
       "    <tr>\n",
       "      <th>2</th>\n",
       "      <td>A Crash Course in Data Science</td>\n",
       "      <td>Johns Hopkins University</td>\n",
       "      <td>COURSE</td>\n",
       "      <td>4.5</td>\n",
       "      <td>Mixed</td>\n",
       "      <td>130k</td>\n",
       "    </tr>\n",
       "    <tr>\n",
       "      <th>3</th>\n",
       "      <td>A Law Student's Toolkit</td>\n",
       "      <td>Yale University</td>\n",
       "      <td>COURSE</td>\n",
       "      <td>4.7</td>\n",
       "      <td>Mixed</td>\n",
       "      <td>91k</td>\n",
       "    </tr>\n",
       "    <tr>\n",
       "      <th>4</th>\n",
       "      <td>A Life of Happiness and Fulfillment</td>\n",
       "      <td>Indian School of Business</td>\n",
       "      <td>COURSE</td>\n",
       "      <td>4.8</td>\n",
       "      <td>Mixed</td>\n",
       "      <td>320k</td>\n",
       "    </tr>\n",
       "  </tbody>\n",
       "</table>\n",
       "</div>"
      ],
      "text/plain": [
       "                                        course_title  \\\n",
       "0  (ISC)² Systems Security Certified Practitioner...   \n",
       "1  A Crash Course in Causality:  Inferring Causal...   \n",
       "2                     A Crash Course in Data Science   \n",
       "3                            A Law Student's Toolkit   \n",
       "4                A Life of Happiness and Fulfillment   \n",
       "\n",
       "          course_organization course_Certificate_type  course_rating  \\\n",
       "0                      (ISC)²          SPECIALIZATION            4.7   \n",
       "1  University of Pennsylvania                  COURSE            4.7   \n",
       "2    Johns Hopkins University                  COURSE            4.5   \n",
       "3             Yale University                  COURSE            4.7   \n",
       "4   Indian School of Business                  COURSE            4.8   \n",
       "\n",
       "  course_difficulty course_students_enrolled  \n",
       "0          Beginner                     5.3k  \n",
       "1      Intermediate                      17k  \n",
       "2             Mixed                     130k  \n",
       "3             Mixed                      91k  \n",
       "4             Mixed                     320k  "
      ]
     },
     "execution_count": 6,
     "metadata": {},
     "output_type": "execute_result"
    }
   ],
   "source": [
    "coursera.head(5)"
   ]
  },
  {
   "cell_type": "code",
   "execution_count": 10,
   "id": "dd9a50f3",
   "metadata": {},
   "outputs": [
    {
     "data": {
      "text/plain": [
       "(891, 6)"
      ]
     },
     "execution_count": 10,
     "metadata": {},
     "output_type": "execute_result"
    }
   ],
   "source": [
    "coursera.shape"
   ]
  },
  {
   "cell_type": "code",
   "execution_count": 11,
   "id": "8848ff48",
   "metadata": {},
   "outputs": [
    {
     "data": {
      "text/plain": [
       "course_title                 object\n",
       "course_organization          object\n",
       "course_Certificate_type      object\n",
       "course_rating               float64\n",
       "course_difficulty            object\n",
       "course_students_enrolled     object\n",
       "dtype: object"
      ]
     },
     "execution_count": 11,
     "metadata": {},
     "output_type": "execute_result"
    }
   ],
   "source": [
    "coursera.dtypes"
   ]
  },
  {
   "cell_type": "markdown",
   "id": "3ae54a78",
   "metadata": {},
   "source": [
    "The course_students_enrolled data contains the number of students enrolled in each course but the datatype is seen as an Object. To be able to use it later, we will convert it to numeric. Looking further into the dataset, I found out there are strings ending in either 'm' or 'k', so we convert the strings to numeric in respective millions and thousands unit."
   ]
  },
  {
   "cell_type": "code",
   "execution_count": 12,
   "id": "cf735286",
   "metadata": {},
   "outputs": [],
   "source": [
    "def convert_to_numeric(value):\n",
    "    if value[-1] == 'k':  # Check if the value ends with 'k'\n",
    "        return round(float(value[:-1]) * 1_000)  # Remove 'k', convert to float, and multiply by 1,000\n",
    "    elif value[-1] == 'm':  # Check if the value ends with 'm'\n",
    "        return round(float(value[:-1]) * 1_000_000)  # Remove 'm', convert to float, and multiply by 1,000,000\n",
    "    else:\n",
    "        return round(float(value))  # Handle plain numbers without a suffix\n",
    "\n",
    "# Apply the conversion function to the Series\n",
    "coursera[\"course_students_enrolled\"] = coursera[\"course_students_enrolled\"].apply(convert_to_numeric)"
   ]
  },
  {
   "cell_type": "markdown",
   "id": "d91963be",
   "metadata": {},
   "source": [
    "Validating if the data correctly converted. The result below shows that 'm' was converted to million and 'k' to thousands and the DataType for \"course_students_enrolled\" was also changed from 'Object' to 'int64'."
   ]
  },
  {
   "cell_type": "code",
   "execution_count": 13,
   "id": "e1f36ad3",
   "metadata": {},
   "outputs": [
    {
     "data": {
      "text/html": [
       "<div>\n",
       "<style scoped>\n",
       "    .dataframe tbody tr th:only-of-type {\n",
       "        vertical-align: middle;\n",
       "    }\n",
       "\n",
       "    .dataframe tbody tr th {\n",
       "        vertical-align: top;\n",
       "    }\n",
       "\n",
       "    .dataframe thead th {\n",
       "        text-align: right;\n",
       "    }\n",
       "</style>\n",
       "<table border=\"1\" class=\"dataframe\">\n",
       "  <thead>\n",
       "    <tr style=\"text-align: right;\">\n",
       "      <th></th>\n",
       "      <th>course_title</th>\n",
       "      <th>course_organization</th>\n",
       "      <th>course_Certificate_type</th>\n",
       "      <th>course_rating</th>\n",
       "      <th>course_difficulty</th>\n",
       "      <th>course_students_enrolled</th>\n",
       "    </tr>\n",
       "  </thead>\n",
       "  <tbody>\n",
       "    <tr>\n",
       "      <th>563</th>\n",
       "      <td>Machine Learning</td>\n",
       "      <td>University of Washington</td>\n",
       "      <td>SPECIALIZATION</td>\n",
       "      <td>4.6</td>\n",
       "      <td>Intermediate</td>\n",
       "      <td>290000</td>\n",
       "    </tr>\n",
       "    <tr>\n",
       "      <th>564</th>\n",
       "      <td>Machine Learning</td>\n",
       "      <td>Stanford University</td>\n",
       "      <td>COURSE</td>\n",
       "      <td>4.9</td>\n",
       "      <td>Mixed</td>\n",
       "      <td>3200000</td>\n",
       "    </tr>\n",
       "  </tbody>\n",
       "</table>\n",
       "</div>"
      ],
      "text/plain": [
       "         course_title       course_organization course_Certificate_type  \\\n",
       "563  Machine Learning  University of Washington          SPECIALIZATION   \n",
       "564  Machine Learning       Stanford University                  COURSE   \n",
       "\n",
       "     course_rating course_difficulty  course_students_enrolled  \n",
       "563            4.6      Intermediate                    290000  \n",
       "564            4.9             Mixed                   3200000  "
      ]
     },
     "execution_count": 13,
     "metadata": {},
     "output_type": "execute_result"
    }
   ],
   "source": [
    "coursera[coursera[\"course_title\"] == 'Machine Learning']"
   ]
  },
  {
   "cell_type": "code",
   "execution_count": 14,
   "id": "26d0ab23",
   "metadata": {},
   "outputs": [
    {
     "data": {
      "text/plain": [
       "course_title                 object\n",
       "course_organization          object\n",
       "course_Certificate_type      object\n",
       "course_rating               float64\n",
       "course_difficulty            object\n",
       "course_students_enrolled      int64\n",
       "dtype: object"
      ]
     },
     "execution_count": 14,
     "metadata": {},
     "output_type": "execute_result"
    }
   ],
   "source": [
    "coursera.dtypes"
   ]
  },
  {
   "cell_type": "markdown",
   "id": "7892ab06",
   "metadata": {},
   "source": [
    "#### Checking for null and duplicates."
   ]
  },
  {
   "cell_type": "code",
   "execution_count": 16,
   "id": "13e876fb",
   "metadata": {},
   "outputs": [
    {
     "data": {
      "text/plain": [
       "course_title                0\n",
       "course_organization         0\n",
       "course_Certificate_type     0\n",
       "course_rating               0\n",
       "course_difficulty           0\n",
       "course_students_enrolled    0\n",
       "dtype: int64"
      ]
     },
     "execution_count": 16,
     "metadata": {},
     "output_type": "execute_result"
    }
   ],
   "source": [
    "coursera.isnull().sum()"
   ]
  },
  {
   "cell_type": "code",
   "execution_count": 17,
   "id": "584d1e2a",
   "metadata": {},
   "outputs": [
    {
     "data": {
      "text/plain": [
       "0"
      ]
     },
     "execution_count": 17,
     "metadata": {},
     "output_type": "execute_result"
    }
   ],
   "source": [
    "coursera.duplicated().sum()"
   ]
  },
  {
   "cell_type": "markdown",
   "id": "c6ff5d72",
   "metadata": {},
   "source": [
    "There are no null and duplicated values in the dataset."
   ]
  },
  {
   "cell_type": "markdown",
   "id": "cf0d1125",
   "metadata": {},
   "source": [
    "#### Checking for Outliers "
   ]
  },
  {
   "cell_type": "code",
   "execution_count": 18,
   "id": "b8f5ce3a",
   "metadata": {},
   "outputs": [
    {
     "name": "stdout",
     "output_type": "stream",
     "text": [
      "Outliers based on IQR:\n"
     ]
    },
    {
     "data": {
      "text/html": [
       "<div>\n",
       "<style scoped>\n",
       "    .dataframe tbody tr th:only-of-type {\n",
       "        vertical-align: middle;\n",
       "    }\n",
       "\n",
       "    .dataframe tbody tr th {\n",
       "        vertical-align: top;\n",
       "    }\n",
       "\n",
       "    .dataframe thead th {\n",
       "        text-align: right;\n",
       "    }\n",
       "</style>\n",
       "<table border=\"1\" class=\"dataframe\">\n",
       "  <thead>\n",
       "    <tr style=\"text-align: right;\">\n",
       "      <th></th>\n",
       "      <th>course_rating</th>\n",
       "      <th>course_students_enrolled</th>\n",
       "    </tr>\n",
       "  </thead>\n",
       "  <tbody>\n",
       "    <tr>\n",
       "      <th>4</th>\n",
       "      <td>NaN</td>\n",
       "      <td>320000.0</td>\n",
       "    </tr>\n",
       "    <tr>\n",
       "      <th>6</th>\n",
       "      <td>NaN</td>\n",
       "      <td>350000.0</td>\n",
       "    </tr>\n",
       "    <tr>\n",
       "      <th>18</th>\n",
       "      <td>NaN</td>\n",
       "      <td>540000.0</td>\n",
       "    </tr>\n",
       "    <tr>\n",
       "      <th>27</th>\n",
       "      <td>NaN</td>\n",
       "      <td>320000.0</td>\n",
       "    </tr>\n",
       "    <tr>\n",
       "      <th>43</th>\n",
       "      <td>NaN</td>\n",
       "      <td>270000.0</td>\n",
       "    </tr>\n",
       "    <tr>\n",
       "      <th>...</th>\n",
       "      <td>...</td>\n",
       "      <td>...</td>\n",
       "    </tr>\n",
       "    <tr>\n",
       "      <th>850</th>\n",
       "      <td>NaN</td>\n",
       "      <td>310000.0</td>\n",
       "    </tr>\n",
       "    <tr>\n",
       "      <th>859</th>\n",
       "      <td>NaN</td>\n",
       "      <td>280000.0</td>\n",
       "    </tr>\n",
       "    <tr>\n",
       "      <th>864</th>\n",
       "      <td>NaN</td>\n",
       "      <td>260000.0</td>\n",
       "    </tr>\n",
       "    <tr>\n",
       "      <th>869</th>\n",
       "      <td>NaN</td>\n",
       "      <td>270000.0</td>\n",
       "    </tr>\n",
       "    <tr>\n",
       "      <th>873</th>\n",
       "      <td>3.9</td>\n",
       "      <td>NaN</td>\n",
       "    </tr>\n",
       "  </tbody>\n",
       "</table>\n",
       "<p>94 rows × 2 columns</p>\n",
       "</div>"
      ],
      "text/plain": [
       "     course_rating  course_students_enrolled\n",
       "4              NaN                  320000.0\n",
       "6              NaN                  350000.0\n",
       "18             NaN                  540000.0\n",
       "27             NaN                  320000.0\n",
       "43             NaN                  270000.0\n",
       "..             ...                       ...\n",
       "850            NaN                  310000.0\n",
       "859            NaN                  280000.0\n",
       "864            NaN                  260000.0\n",
       "869            NaN                  270000.0\n",
       "873            3.9                       NaN\n",
       "\n",
       "[94 rows x 2 columns]"
      ]
     },
     "execution_count": 18,
     "metadata": {},
     "output_type": "execute_result"
    }
   ],
   "source": [
    "# Using IQR-based outliers to check whether the data we have outliers\n",
    "numeric_df = coursera.select_dtypes(include='number')\n",
    "Q1 = numeric_df.quantile(0.25)\n",
    "Q3 = numeric_df.quantile(0.75)\n",
    "IQR = Q3 - Q1\n",
    "\n",
    "lower_bound = Q1 - 1.5 * IQR\n",
    "upper_bound = Q3 + 1.5 * IQR\n",
    "\n",
    "# Find rows with outliers\n",
    "outliers = numeric_df[(numeric_df < lower_bound) | (numeric_df > upper_bound)].dropna(how='all')\n",
    "print(\"Outliers based on IQR:\")\n",
    "outliers"
   ]
  },
  {
   "cell_type": "code",
   "execution_count": 19,
   "id": "04277f0f",
   "metadata": {},
   "outputs": [
    {
     "data": {
      "image/png": "[encoded data removed]",
      "text/plain": [
       "<Figure size 720x576 with 2 Axes>"
      ]
     },
     "metadata": {
      "needs_background": "light"
     },
     "output_type": "display_data"
    }
   ],
   "source": [
    "fig, axes = plt.subplots(1, 2, figsize=(10, 8))\n",
    "\n",
    "sns.boxplot(y='course_rating', ax=axes[0], data=coursera, color = 'skyblue')\n",
    "axes[0].set_title(\"Outliers: Course Ratings\")\n",
    "axes[0].set_ylabel(\"Ratings\")\n",
    "axes[0].tick_params(axis='x', which='both', bottom=False, labelbottom=False)  # Remove x-axis ticks\n",
    "\n",
    "# Boxplot for students enrolled\n",
    "sns.boxplot(y='course_students_enrolled', ax=axes[1], data=coursera, color = 'skyblue')\n",
    "axes[1].set_title(\"Outliers: Students Enrolled\")\n",
    "plt.gca().yaxis.set_major_formatter(mtick.FuncFormatter(lambda x, _: f'{x/1_000_000:.1f}M'))\n",
    "axes[1].tick_params(axis='x', which='both', bottom=False, labelbottom=False)  # Remove x-axis ticks\n",
    "axes[1].set_ylabel(\"Students (in thousands)\")\n",
    "\n",
    "# Show the Plot\n",
    "plt.tight_layout()\n",
    "plt.show()"
   ]
  },
  {
   "cell_type": "markdown",
   "id": "e9fed841",
   "metadata": {},
   "source": [
    "We can see that we have 94 rows of data containing outliers. However, the course rating can be between 1 to 5, so we will not be removing those ratings and the number of students who enroll in a course can vary as well depending on the popularity of the course, so we will not be removing these values as well. They may provide us with further insights in the later stages of analysis. However, we need to be careful about using mean as it is strongly impacted by outliers."
   ]
  },
  {
   "cell_type": "markdown",
   "id": "ccdb3c84",
   "metadata": {},
   "source": [
    "### Exploratory Data Analysis (EDA)"
   ]
  },
  {
   "cell_type": "code",
   "execution_count": 20,
   "id": "41700fc1",
   "metadata": {},
   "outputs": [
    {
     "name": "stdout",
     "output_type": "stream",
     "text": [
      "There are 154 unique organizations contributing courses to coursera.\n"
     ]
    }
   ],
   "source": [
    "print(f\"There are {coursera['course_organization'].nunique()} unique organizations contributing courses to coursera.\")"
   ]
  },
  {
   "cell_type": "code",
   "execution_count": 21,
   "id": "ec52c891",
   "metadata": {},
   "outputs": [
    {
     "data": {
      "text/plain": [
       "array(['SPECIALIZATION', 'COURSE', 'PROFESSIONAL CERTIFICATE'],\n",
       "      dtype=object)"
      ]
     },
     "execution_count": 21,
     "metadata": {},
     "output_type": "execute_result"
    }
   ],
   "source": [
    "coursera[\"course_Certificate_type\"].unique()"
   ]
  },
  {
   "cell_type": "markdown",
   "id": "d5070eac",
   "metadata": {},
   "source": [
    "There are 154 unique organizations contributing courses to coursera in different certificate level i.e. specialization, course, professional certificate. \n",
    "\n",
    "Looking further into most popular course based on student enrollment."
   ]
  },
  {
   "cell_type": "markdown",
   "id": "c0fd7b2d",
   "metadata": {},
   "source": [
    "#### Most Popular Course based on enrollment"
   ]
  },
  {
   "cell_type": "code",
   "execution_count": 22,
   "id": "7b6d35bf",
   "metadata": {
    "scrolled": true
   },
   "outputs": [
    {
     "data": {
      "text/html": [
       "<div>\n",
       "<style scoped>\n",
       "    .dataframe tbody tr th:only-of-type {\n",
       "        vertical-align: middle;\n",
       "    }\n",
       "\n",
       "    .dataframe tbody tr th {\n",
       "        vertical-align: top;\n",
       "    }\n",
       "\n",
       "    .dataframe thead th {\n",
       "        text-align: right;\n",
       "    }\n",
       "</style>\n",
       "<table border=\"1\" class=\"dataframe\">\n",
       "  <thead>\n",
       "    <tr style=\"text-align: right;\">\n",
       "      <th></th>\n",
       "      <th>course_title</th>\n",
       "      <th>course_organization</th>\n",
       "      <th>course_Certificate_type</th>\n",
       "      <th>course_rating</th>\n",
       "      <th>course_difficulty</th>\n",
       "      <th>course_students_enrolled</th>\n",
       "    </tr>\n",
       "  </thead>\n",
       "  <tbody>\n",
       "    <tr>\n",
       "      <th>564</th>\n",
       "      <td>Machine Learning</td>\n",
       "      <td>Stanford University</td>\n",
       "      <td>COURSE</td>\n",
       "      <td>4.9</td>\n",
       "      <td>Mixed</td>\n",
       "      <td>3200000</td>\n",
       "    </tr>\n",
       "  </tbody>\n",
       "</table>\n",
       "</div>"
      ],
      "text/plain": [
       "         course_title  course_organization course_Certificate_type  \\\n",
       "564  Machine Learning  Stanford University                  COURSE   \n",
       "\n",
       "     course_rating course_difficulty  course_students_enrolled  \n",
       "564            4.9             Mixed                   3200000  "
      ]
     },
     "execution_count": 22,
     "metadata": {},
     "output_type": "execute_result"
    }
   ],
   "source": [
    "max_enrollment = coursera[coursera['course_students_enrolled'] == coursera['course_students_enrolled'].max()]\n",
    "max_enrollment"
   ]
  },
  {
   "cell_type": "markdown",
   "id": "8b54ef34",
   "metadata": {},
   "source": [
    "#### Course Difficulty and Popularity"
   ]
  },
  {
   "cell_type": "code",
   "execution_count": 23,
   "id": "a3a557bb",
   "metadata": {},
   "outputs": [
    {
     "data": {
      "text/html": [
       "<div>\n",
       "<style scoped>\n",
       "    .dataframe tbody tr th:only-of-type {\n",
       "        vertical-align: middle;\n",
       "    }\n",
       "\n",
       "    .dataframe tbody tr th {\n",
       "        vertical-align: top;\n",
       "    }\n",
       "\n",
       "    .dataframe thead th {\n",
       "        text-align: right;\n",
       "    }\n",
       "</style>\n",
       "<table border=\"1\" class=\"dataframe\">\n",
       "  <thead>\n",
       "    <tr style=\"text-align: right;\">\n",
       "      <th></th>\n",
       "      <th>course_difficulty</th>\n",
       "      <th>course_students_enrolled</th>\n",
       "    </tr>\n",
       "  </thead>\n",
       "  <tbody>\n",
       "    <tr>\n",
       "      <th>0</th>\n",
       "      <td>Advanced</td>\n",
       "      <td>1264400</td>\n",
       "    </tr>\n",
       "    <tr>\n",
       "      <th>2</th>\n",
       "      <td>Intermediate</td>\n",
       "      <td>14506300</td>\n",
       "    </tr>\n",
       "    <tr>\n",
       "      <th>3</th>\n",
       "      <td>Mixed</td>\n",
       "      <td>24989400</td>\n",
       "    </tr>\n",
       "    <tr>\n",
       "      <th>1</th>\n",
       "      <td>Beginner</td>\n",
       "      <td>39921800</td>\n",
       "    </tr>\n",
       "  </tbody>\n",
       "</table>\n",
       "</div>"
      ],
      "text/plain": [
       "  course_difficulty  course_students_enrolled\n",
       "0          Advanced                   1264400\n",
       "2      Intermediate                  14506300\n",
       "3             Mixed                  24989400\n",
       "1          Beginner                  39921800"
      ]
     },
     "execution_count": 23,
     "metadata": {},
     "output_type": "execute_result"
    }
   ],
   "source": [
    "course_level_enrollment = pd.DataFrame(coursera.groupby(\"course_difficulty\", as_index=False).course_students_enrolled.sum().sort_values(by = 'course_students_enrolled'))\n",
    "course_level_enrollment"
   ]
  },
  {
   "cell_type": "code",
   "execution_count": 25,
   "id": "12b82e89",
   "metadata": {},
   "outputs": [
    {
     "name": "stderr",
     "output_type": "stream",
     "text": [
      "/Users/sujamanandhar/opt/anaconda3/lib/python3.9/site-packages/seaborn/_decorators.py:36: FutureWarning: Pass the following variables as keyword args: x, y. From version 0.12, the only valid positional argument will be `data`, and passing other arguments without an explicit keyword will result in an error or misinterpretation.\n",
      "  warnings.warn(\n"
     ]
    },
    {
     "data": {
      "text/plain": [
       "<function matplotlib.pyplot.tight_layout(*, pad=1.08, h_pad=None, w_pad=None, rect=None)>"
      ]
     },
     "execution_count": 25,
     "metadata": {},
     "output_type": "execute_result"
    },
    {
     "data": {
      "image/png": "[encoded data removed]",
      "text/plain": [
       "<Figure size 720x720 with 1 Axes>"
      ]
     },
     "metadata": {
      "needs_background": "light"
     },
     "output_type": "display_data"
    }
   ],
   "source": [
    "# Create the bar chart\n",
    "plt.figure(figsize=(10, 10))\n",
    "ax = sns.barplot( course_level_enrollment[\"course_difficulty\"],  course_level_enrollment[\"course_students_enrolled\"], color='skyblue')\n",
    "\n",
    "# Format y-axis to display in millions\n",
    "plt.gca().yaxis.set_major_formatter(plt.FuncFormatter(lambda x, _: f'{int(x/1_000_000)}M'))\n",
    "\n",
    "# Add titles and labels\n",
    "plt.title(\"Total Students Enrolled by Course Difficulty\")\n",
    "plt.xlabel(\"Course Difficulty\")\n",
    "plt.ylabel(\"Total Students Enrolled\")\n",
    "ax.bar_label(ax.containers[0], labels=[f'{x/1000000:,.0f}M' for x in ax.containers[0].datavalues])\n",
    "\n",
    "# Show the plot\n",
    "plt.tight_layout"
   ]
  },
  {
   "cell_type": "markdown",
   "id": "281f315b",
   "metadata": {},
   "source": [
    "Most students enroll into beginner level course. Around **39.9 million** students enroll in **beginner level** courses, **24 million** in **mixed**, and **14 million** in **intermediate level**."
   ]
  },
  {
   "cell_type": "code",
   "execution_count": 26,
   "id": "4ff498c3",
   "metadata": {},
   "outputs": [],
   "source": [
    "certificate_enrollment = pd.DataFrame(coursera.groupby(\"course_Certificate_type\", as_index= False).course_students_enrolled.sum().sort_values(by = \"course_students_enrolled\"))"
   ]
  },
  {
   "cell_type": "code",
   "execution_count": 27,
   "id": "f6c9b423",
   "metadata": {},
   "outputs": [
    {
     "name": "stderr",
     "output_type": "stream",
     "text": [
      "/Users/sujamanandhar/opt/anaconda3/lib/python3.9/site-packages/seaborn/_decorators.py:36: FutureWarning: Pass the following variables as keyword args: x, y. From version 0.12, the only valid positional argument will be `data`, and passing other arguments without an explicit keyword will result in an error or misinterpretation.\n",
      "  warnings.warn(\n"
     ]
    },
    {
     "data": {
      "text/plain": [
       "<function matplotlib.pyplot.tight_layout(*, pad=1.08, h_pad=None, w_pad=None, rect=None)>"
      ]
     },
     "execution_count": 27,
     "metadata": {},
     "output_type": "execute_result"
    },
    {
     "data": {
      "image/png": "[encoded data removed]",
      "text/plain": [
       "<Figure size 720x720 with 1 Axes>"
      ]
     },
     "metadata": {
      "needs_background": "light"
     },
     "output_type": "display_data"
    }
   ],
   "source": [
    "plt.figure(figsize=(10, 10))\n",
    "\n",
    "ax = sns.barplot(certificate_enrollment[\"course_Certificate_type\"],  certificate_enrollment[\"course_students_enrolled\"], color='skyblue')\n",
    "\n",
    "# Format y-axis to display in millions\n",
    "plt.gca().yaxis.set_major_formatter(plt.FuncFormatter(lambda x, _: f'{int(x/1_000_000)}M'))\n",
    "\n",
    "# Add titles and labels\n",
    "plt.title(\"Total Students Enrolled by Certificate Type\")\n",
    "plt.xlabel(\"Certificate Type\")\n",
    "plt.ylabel(\"Total Students Enrolled\")\n",
    "ax.bar_label(ax.containers[0], labels=[f'{x/1000000:,.0f}M' for x in ax.containers[0].datavalues])\n",
    "\n",
    "# Show the plot\n",
    "plt.tight_layout\n"
   ]
  },
  {
   "cell_type": "markdown",
   "id": "5c8ba148",
   "metadata": {},
   "source": [
    "Most students preferred course to specialization and professional certificate. We want to look further at which level of difficulty enrolls more student in various Certificate type."
   ]
  },
  {
   "cell_type": "code",
   "execution_count": 28,
   "id": "a32fa51f",
   "metadata": {},
   "outputs": [],
   "source": [
    "course_difficulty_certificate = coursera.groupby([\"course_Certificate_type\",\"course_difficulty\"]).course_students_enrolled.sum().reset_index()"
   ]
  },
  {
   "cell_type": "code",
   "execution_count": 30,
   "id": "ceaad70e",
   "metadata": {},
   "outputs": [
    {
     "data": {
      "text/plain": [
       "<function matplotlib.pyplot.tight_layout(*, pad=1.08, h_pad=None, w_pad=None, rect=None)>"
      ]
     },
     "execution_count": 30,
     "metadata": {},
     "output_type": "execute_result"
    },
    {
     "data": {
      "image/png": "[encoded data removed]",
      "text/plain": [
       "<Figure size 1080x720 with 1 Axes>"
      ]
     },
     "metadata": {
      "needs_background": "light"
     },
     "output_type": "display_data"
    }
   ],
   "source": [
    "plt.figure(figsize = (15,10))\n",
    "\n",
    "ax = sns.barplot(y = course_difficulty_certificate[\"course_students_enrolled\"], x = course_difficulty_certificate[\"course_Certificate_type\"], hue = course_difficulty_certificate[\"course_difficulty\"], estimator=sum)\n",
    "\n",
    "# Format y-axis to display in millions\n",
    "plt.gca().yaxis.set_major_formatter(plt.FuncFormatter(lambda x, _: f'{int(x/1_000_000)}M'))\n",
    "\n",
    "# Add titles and labels\n",
    "plt.title(\"Total Students Enrolled in Various Level in Various Certificate Type\")\n",
    "plt.xlabel(\"Certificate Type\")\n",
    "plt.ylabel(\"Total Students Enrolled\")\n",
    "\n",
    "# Add Labels to Bars\n",
    "for container in ax.containers:\n",
    "    ax.bar_label(container, fmt='%d', label_type='edge')  \n",
    "    \n",
    "# Move Legend to the Side\n",
    "ax.legend(title=\"Difficulty Level\", bbox_to_anchor=(1.05, 1), loc='upper left')\n",
    "\n",
    "# Show the plot\n",
    "plt.tight_layout"
   ]
  },
  {
   "cell_type": "markdown",
   "id": "e089d90e",
   "metadata": {},
   "source": [
    "Beginner level of difficulty has the most enrolled students in professional and specialization courses while it is the second highest in the normal course. Beginner level courses are most popular among all the course level."
   ]
  },
  {
   "cell_type": "markdown",
   "id": "93d4eef8",
   "metadata": {},
   "source": [
    "#### Looking further into number of courses in each certification type and difficulty level"
   ]
  },
  {
   "cell_type": "code",
   "execution_count": 31,
   "id": "587ef0f7",
   "metadata": {},
   "outputs": [
    {
     "data": {
      "text/html": [
       "<div>\n",
       "<style scoped>\n",
       "    .dataframe tbody tr th:only-of-type {\n",
       "        vertical-align: middle;\n",
       "    }\n",
       "\n",
       "    .dataframe tbody tr th {\n",
       "        vertical-align: top;\n",
       "    }\n",
       "\n",
       "    .dataframe thead th {\n",
       "        text-align: right;\n",
       "    }\n",
       "</style>\n",
       "<table border=\"1\" class=\"dataframe\">\n",
       "  <thead>\n",
       "    <tr style=\"text-align: right;\">\n",
       "      <th></th>\n",
       "      <th>course_Certificate_type</th>\n",
       "      <th>course_difficulty</th>\n",
       "      <th>course_title</th>\n",
       "    </tr>\n",
       "  </thead>\n",
       "  <tbody>\n",
       "    <tr>\n",
       "      <th>0</th>\n",
       "      <td>COURSE</td>\n",
       "      <td>Advanced</td>\n",
       "      <td>9</td>\n",
       "    </tr>\n",
       "    <tr>\n",
       "      <th>1</th>\n",
       "      <td>COURSE</td>\n",
       "      <td>Beginner</td>\n",
       "      <td>282</td>\n",
       "    </tr>\n",
       "    <tr>\n",
       "      <th>2</th>\n",
       "      <td>COURSE</td>\n",
       "      <td>Intermediate</td>\n",
       "      <td>104</td>\n",
       "    </tr>\n",
       "    <tr>\n",
       "      <th>3</th>\n",
       "      <td>COURSE</td>\n",
       "      <td>Mixed</td>\n",
       "      <td>187</td>\n",
       "    </tr>\n",
       "    <tr>\n",
       "      <th>4</th>\n",
       "      <td>PROFESSIONAL CERTIFICATE</td>\n",
       "      <td>Beginner</td>\n",
       "      <td>9</td>\n",
       "    </tr>\n",
       "    <tr>\n",
       "      <th>5</th>\n",
       "      <td>PROFESSIONAL CERTIFICATE</td>\n",
       "      <td>Intermediate</td>\n",
       "      <td>3</td>\n",
       "    </tr>\n",
       "    <tr>\n",
       "      <th>6</th>\n",
       "      <td>SPECIALIZATION</td>\n",
       "      <td>Advanced</td>\n",
       "      <td>10</td>\n",
       "    </tr>\n",
       "    <tr>\n",
       "      <th>7</th>\n",
       "      <td>SPECIALIZATION</td>\n",
       "      <td>Beginner</td>\n",
       "      <td>196</td>\n",
       "    </tr>\n",
       "    <tr>\n",
       "      <th>8</th>\n",
       "      <td>SPECIALIZATION</td>\n",
       "      <td>Intermediate</td>\n",
       "      <td>91</td>\n",
       "    </tr>\n",
       "  </tbody>\n",
       "</table>\n",
       "</div>"
      ],
      "text/plain": [
       "    course_Certificate_type course_difficulty  course_title\n",
       "0                    COURSE          Advanced             9\n",
       "1                    COURSE          Beginner           282\n",
       "2                    COURSE      Intermediate           104\n",
       "3                    COURSE             Mixed           187\n",
       "4  PROFESSIONAL CERTIFICATE          Beginner             9\n",
       "5  PROFESSIONAL CERTIFICATE      Intermediate             3\n",
       "6            SPECIALIZATION          Advanced            10\n",
       "7            SPECIALIZATION          Beginner           196\n",
       "8            SPECIALIZATION      Intermediate            91"
      ]
     },
     "execution_count": 31,
     "metadata": {},
     "output_type": "execute_result"
    }
   ],
   "source": [
    "course_count = coursera.groupby([\"course_Certificate_type\",\"course_difficulty\"]).course_title.count().reset_index()\n",
    "course_count"
   ]
  },
  {
   "cell_type": "code",
   "execution_count": 33,
   "id": "2bb872f0",
   "metadata": {},
   "outputs": [
    {
     "data": {
      "text/plain": [
       "<function matplotlib.pyplot.tight_layout(*, pad=1.08, h_pad=None, w_pad=None, rect=None)>"
      ]
     },
     "execution_count": 33,
     "metadata": {},
     "output_type": "execute_result"
    },
    {
     "data": {
      "image/png": "[encoded data removed]",
      "text/plain": [
       "<Figure size 720x720 with 1 Axes>"
      ]
     },
     "metadata": {
      "needs_background": "light"
     },
     "output_type": "display_data"
    }
   ],
   "source": [
    "plt.figure(figsize = (10,10))\n",
    "\n",
    "ax = sns.barplot(y = course_count[\"course_title\"], x = course_count[\"course_Certificate_type\"], hue = course_count[\"course_difficulty\"], estimator=sum)\n",
    "\n",
    "# Add titles and labels\n",
    "plt.title(\"Total Courses in Each Certification Type\")\n",
    "plt.xlabel(\"Certificate Type\")\n",
    "plt.ylabel(\"Number of Courses\")\n",
    "\n",
    "# Add Labels to Bars\n",
    "for container in ax.containers:\n",
    "    ax.bar_label(container, fmt='%d', label_type='edge')  \n",
    "    \n",
    "# Move Legend to the Side\n",
    "ax.legend(title=\"Difficulty Level\", bbox_to_anchor=(1.05, 1), loc='upper left')\n",
    "\n",
    "# Show the plot\n",
    "plt.tight_layout"
   ]
  },
  {
   "cell_type": "markdown",
   "id": "afff4920",
   "metadata": {},
   "source": [
    "From the graph, we can see that there are more beginner level courses than other difficulty levels in all the certification type. "
   ]
  },
  {
   "cell_type": "markdown",
   "id": "614836c4",
   "metadata": {},
   "source": [
    "### Hypothesis\n",
    "\n",
    "As we see the course level that contains more number of course has higher enrollment. I assume, there is a strong relationship between number of courses and number of enrollment.\n",
    "\n",
    "To further analyse this, we create a new dataframe by joining dataframe with number of students enrolled and number of courses which is grouped by:\n",
    "1. Course Organization\n",
    "2. Course Difficulty level"
   ]
  },
  {
   "cell_type": "markdown",
   "id": "ea8ebe1b",
   "metadata": {},
   "source": [
    "**1. Course Organization**"
   ]
  },
  {
   "cell_type": "code",
   "execution_count": 94,
   "id": "166b993d",
   "metadata": {},
   "outputs": [
    {
     "data": {
      "text/html": [
       "<div>\n",
       "<style scoped>\n",
       "    .dataframe tbody tr th:only-of-type {\n",
       "        vertical-align: middle;\n",
       "    }\n",
       "\n",
       "    .dataframe tbody tr th {\n",
       "        vertical-align: top;\n",
       "    }\n",
       "\n",
       "    .dataframe thead th {\n",
       "        text-align: right;\n",
       "    }\n",
       "</style>\n",
       "<table border=\"1\" class=\"dataframe\">\n",
       "  <thead>\n",
       "    <tr style=\"text-align: right;\">\n",
       "      <th></th>\n",
       "      <th>course_students_enrolled</th>\n",
       "      <th>number_of_courses</th>\n",
       "    </tr>\n",
       "    <tr>\n",
       "      <th>course_organization</th>\n",
       "      <th></th>\n",
       "      <th></th>\n",
       "    </tr>\n",
       "  </thead>\n",
       "  <tbody>\n",
       "    <tr>\n",
       "      <th>(ISC)²</th>\n",
       "      <td>9900</td>\n",
       "      <td>3</td>\n",
       "    </tr>\n",
       "    <tr>\n",
       "      <th>Amazon Web Services</th>\n",
       "      <td>364000</td>\n",
       "      <td>6</td>\n",
       "    </tr>\n",
       "    <tr>\n",
       "      <th>American Institute of Business and Economics</th>\n",
       "      <td>11000</td>\n",
       "      <td>1</td>\n",
       "    </tr>\n",
       "    <tr>\n",
       "      <th>American Museum of Natural History</th>\n",
       "      <td>30000</td>\n",
       "      <td>2</td>\n",
       "    </tr>\n",
       "    <tr>\n",
       "      <th>Arizona State University</th>\n",
       "      <td>589500</td>\n",
       "      <td>7</td>\n",
       "    </tr>\n",
       "    <tr>\n",
       "      <th>Atlassian</th>\n",
       "      <td>80000</td>\n",
       "      <td>2</td>\n",
       "    </tr>\n",
       "    <tr>\n",
       "      <th>Autodesk</th>\n",
       "      <td>48200</td>\n",
       "      <td>4</td>\n",
       "    </tr>\n",
       "    <tr>\n",
       "      <th>Automation Anywhere</th>\n",
       "      <td>2200</td>\n",
       "      <td>1</td>\n",
       "    </tr>\n",
       "    <tr>\n",
       "      <th>BCG</th>\n",
       "      <td>20000</td>\n",
       "      <td>1</td>\n",
       "    </tr>\n",
       "    <tr>\n",
       "      <th>Berklee College of Music</th>\n",
       "      <td>1288000</td>\n",
       "      <td>14</td>\n",
       "    </tr>\n",
       "  </tbody>\n",
       "</table>\n",
       "</div>"
      ],
      "text/plain": [
       "                                              course_students_enrolled  \\\n",
       "course_organization                                                      \n",
       "(ISC)²                                                            9900   \n",
       "Amazon Web Services                                             364000   \n",
       "American Institute of Business and Economics                     11000   \n",
       "American Museum of Natural History                               30000   \n",
       "Arizona State University                                        589500   \n",
       "Atlassian                                                        80000   \n",
       "Autodesk                                                         48200   \n",
       "Automation Anywhere                                               2200   \n",
       "BCG                                                              20000   \n",
       "Berklee College of Music                                       1288000   \n",
       "\n",
       "                                              number_of_courses  \n",
       "course_organization                                              \n",
       "(ISC)²                                                        3  \n",
       "Amazon Web Services                                           6  \n",
       "American Institute of Business and Economics                  1  \n",
       "American Museum of Natural History                            2  \n",
       "Arizona State University                                      7  \n",
       "Atlassian                                                     2  \n",
       "Autodesk                                                      4  \n",
       "Automation Anywhere                                           1  \n",
       "BCG                                                           1  \n",
       "Berklee College of Music                                     14  "
      ]
     },
     "execution_count": 94,
     "metadata": {},
     "output_type": "execute_result"
    }
   ],
   "source": [
    "total_student = pd.DataFrame(coursera.groupby(\"course_organization\", as_index = True).course_students_enrolled.sum())\n",
    "\n",
    "total_courses = pd.DataFrame(coursera.groupby(\"course_organization\", as_index = True).course_title.count())\n",
    "\n",
    "number_course_student = total_student.join(total_courses, on = \"course_organization\", how = \"left\")\n",
    "number_course_student.rename(columns = {\"course_title\":\"number_of_courses\"}, inplace = True)\n",
    "number_course_student.head(10)"
   ]
  },
  {
   "cell_type": "code",
   "execution_count": 35,
   "id": "4eafa508",
   "metadata": {},
   "outputs": [
    {
     "data": {
      "text/plain": [
       "course_students_enrolled  course_students_enrolled    1.000000\n",
       "                          number_of_courses           0.880679\n",
       "dtype: float64"
      ]
     },
     "execution_count": 35,
     "metadata": {},
     "output_type": "execute_result"
    }
   ],
   "source": [
    "numeric_feat = number_course_student.select_dtypes(include='number')\n",
    "cor_matrix = numeric_feat.corr()\n",
    "\n",
    "cor_matrix.stack().drop_duplicates(keep = 'first', inplace = False)\n"
   ]
  },
  {
   "cell_type": "code",
   "execution_count": 36,
   "id": "8293ae6f",
   "metadata": {},
   "outputs": [
    {
     "data": {
      "image/png": "[encoded data removed]",
      "text/plain": [
       "<Figure size 720x432 with 1 Axes>"
      ]
     },
     "metadata": {
      "needs_background": "light"
     },
     "output_type": "display_data"
    }
   ],
   "source": [
    "plt.figure(figsize=(10, 6))\n",
    "plt.scatter(\n",
    "    number_course_student['number_of_courses'],\n",
    "    number_course_student['course_students_enrolled'],\n",
    "    color='blue',\n",
    "    alpha=0.7,\n",
    "    edgecolor='black'\n",
    ")\n",
    "plt.title(\"Correlation Between Number of Courses and Total Students Enrolled\", fontsize=14)\n",
    "plt.xlabel(\"Number of Courses\", fontsize=12)\n",
    "plt.ylabel(\"Total Students Enrolled\", fontsize=12)\n",
    "plt.grid(True)\n",
    "plt.show()"
   ]
  },
  {
   "cell_type": "markdown",
   "id": "856796ea",
   "metadata": {},
   "source": [
    "**Result**\n",
    "\n",
    "Strong positive correlation between enrollment and number of courses."
   ]
  },
  {
   "cell_type": "markdown",
   "id": "cc0d3b5f",
   "metadata": {},
   "source": [
    "**2. Course Difficulty Level**"
   ]
  },
  {
   "cell_type": "code",
   "execution_count": 37,
   "id": "18fa35d0",
   "metadata": {},
   "outputs": [
    {
     "data": {
      "text/html": [
       "<div>\n",
       "<style scoped>\n",
       "    .dataframe tbody tr th:only-of-type {\n",
       "        vertical-align: middle;\n",
       "    }\n",
       "\n",
       "    .dataframe tbody tr th {\n",
       "        vertical-align: top;\n",
       "    }\n",
       "\n",
       "    .dataframe thead th {\n",
       "        text-align: right;\n",
       "    }\n",
       "</style>\n",
       "<table border=\"1\" class=\"dataframe\">\n",
       "  <thead>\n",
       "    <tr style=\"text-align: right;\">\n",
       "      <th></th>\n",
       "      <th>course_students_enrolled</th>\n",
       "      <th>number_of_courses</th>\n",
       "    </tr>\n",
       "    <tr>\n",
       "      <th>course_difficulty</th>\n",
       "      <th></th>\n",
       "      <th></th>\n",
       "    </tr>\n",
       "  </thead>\n",
       "  <tbody>\n",
       "    <tr>\n",
       "      <th>Advanced</th>\n",
       "      <td>1264400</td>\n",
       "      <td>19</td>\n",
       "    </tr>\n",
       "    <tr>\n",
       "      <th>Beginner</th>\n",
       "      <td>39921800</td>\n",
       "      <td>487</td>\n",
       "    </tr>\n",
       "    <tr>\n",
       "      <th>Intermediate</th>\n",
       "      <td>14506300</td>\n",
       "      <td>198</td>\n",
       "    </tr>\n",
       "    <tr>\n",
       "      <th>Mixed</th>\n",
       "      <td>24989400</td>\n",
       "      <td>187</td>\n",
       "    </tr>\n",
       "  </tbody>\n",
       "</table>\n",
       "</div>"
      ],
      "text/plain": [
       "                   course_students_enrolled  number_of_courses\n",
       "course_difficulty                                             \n",
       "Advanced                            1264400                 19\n",
       "Beginner                           39921800                487\n",
       "Intermediate                       14506300                198\n",
       "Mixed                              24989400                187"
      ]
     },
     "execution_count": 37,
     "metadata": {},
     "output_type": "execute_result"
    }
   ],
   "source": [
    "total_student = pd.DataFrame(coursera.groupby(\"course_difficulty\", as_index = True).course_students_enrolled.sum())\n",
    "\n",
    "total_courses = pd.DataFrame(coursera.groupby(\"course_difficulty\", as_index = True).course_title.count())\n",
    "\n",
    "number_course_student = total_student.join(total_courses, on = \"course_difficulty\", how = \"left\")\n",
    "number_course_student.rename(columns = {\"course_title\":\"number_of_courses\"}, inplace = True)\n",
    "number_course_student"
   ]
  },
  {
   "cell_type": "markdown",
   "id": "c60be216",
   "metadata": {},
   "source": [
    "#### Calculating correlation"
   ]
  },
  {
   "cell_type": "code",
   "execution_count": 38,
   "id": "9a20df8d",
   "metadata": {},
   "outputs": [
    {
     "data": {
      "text/plain": [
       "course_students_enrolled  course_students_enrolled    1.000000\n",
       "                          number_of_courses           0.948046\n",
       "dtype: float64"
      ]
     },
     "execution_count": 38,
     "metadata": {},
     "output_type": "execute_result"
    }
   ],
   "source": [
    "numeric_feat = number_course_student.select_dtypes(include='number')\n",
    "cor_matrix = numeric_feat.corr()\n",
    "\n",
    "cor_matrix.stack().drop_duplicates(keep = 'first', inplace = False)\n"
   ]
  },
  {
   "cell_type": "markdown",
   "id": "276bf719",
   "metadata": {},
   "source": [
    "**Result**\n",
    "\n",
    "As assumed the number of student enrolled has a strong positive correlation with number of courses in particular difficulty level i.e. Higher the number of courses, higher the course enrollment number."
   ]
  },
  {
   "cell_type": "markdown",
   "id": "16ab3d14",
   "metadata": {},
   "source": [
    "#### Course Ratings "
   ]
  },
  {
   "cell_type": "markdown",
   "id": "ed5094b1",
   "metadata": {},
   "source": [
    "We look at high rated courses i.e Top 10% for different levels."
   ]
  },
  {
   "cell_type": "code",
   "execution_count": 69,
   "id": "5ee5b71f",
   "metadata": {},
   "outputs": [
    {
     "name": "stdout",
     "output_type": "stream",
     "text": [
      "There are 1 highly rated advanced courses are: \n"
     ]
    },
    {
     "data": {
      "text/html": [
       "<div>\n",
       "<style scoped>\n",
       "    .dataframe tbody tr th:only-of-type {\n",
       "        vertical-align: middle;\n",
       "    }\n",
       "\n",
       "    .dataframe tbody tr th {\n",
       "        vertical-align: top;\n",
       "    }\n",
       "\n",
       "    .dataframe thead th {\n",
       "        text-align: right;\n",
       "    }\n",
       "</style>\n",
       "<table border=\"1\" class=\"dataframe\">\n",
       "  <thead>\n",
       "    <tr style=\"text-align: right;\">\n",
       "      <th></th>\n",
       "      <th>course_title</th>\n",
       "      <th>course_organization</th>\n",
       "      <th>course_Certificate_type</th>\n",
       "      <th>course_rating</th>\n",
       "      <th>course_difficulty</th>\n",
       "      <th>course_students_enrolled</th>\n",
       "    </tr>\n",
       "  </thead>\n",
       "  <tbody>\n",
       "    <tr>\n",
       "      <th>600</th>\n",
       "      <td>Medical Neuroscience</td>\n",
       "      <td>Duke University</td>\n",
       "      <td>COURSE</td>\n",
       "      <td>4.9</td>\n",
       "      <td>Advanced</td>\n",
       "      <td>170000</td>\n",
       "    </tr>\n",
       "  </tbody>\n",
       "</table>\n",
       "</div>"
      ],
      "text/plain": [
       "             course_title course_organization course_Certificate_type  \\\n",
       "600  Medical Neuroscience     Duke University                  COURSE   \n",
       "\n",
       "     course_rating course_difficulty  course_students_enrolled  \n",
       "600            4.9          Advanced                    170000  "
      ]
     },
     "execution_count": 69,
     "metadata": {},
     "output_type": "execute_result"
    }
   ],
   "source": [
    "high_rated_advance = coursera[(coursera[\"course_difficulty\"]==\"Advanced\") & (coursera[\"course_rating\"]>coursera[\"course_rating\"].quantile(0.90))]\n",
    "print(f\"There are {high_rated_advance.iloc[:,1].count()} highly rated advanced courses are: \")\n",
    "high_rated_advance"
   ]
  },
  {
   "cell_type": "code",
   "execution_count": 91,
   "id": "ec88293f",
   "metadata": {},
   "outputs": [
    {
     "name": "stdout",
     "output_type": "stream",
     "text": [
      "There are 39 among which top 5 highly rated, most enrolled beginner courses are: \n"
     ]
    },
    {
     "data": {
      "text/html": [
       "<div>\n",
       "<style scoped>\n",
       "    .dataframe tbody tr th:only-of-type {\n",
       "        vertical-align: middle;\n",
       "    }\n",
       "\n",
       "    .dataframe tbody tr th {\n",
       "        vertical-align: top;\n",
       "    }\n",
       "\n",
       "    .dataframe thead th {\n",
       "        text-align: right;\n",
       "    }\n",
       "</style>\n",
       "<table border=\"1\" class=\"dataframe\">\n",
       "  <thead>\n",
       "    <tr style=\"text-align: right;\">\n",
       "      <th></th>\n",
       "      <th>course_title</th>\n",
       "      <th>course_organization</th>\n",
       "      <th>course_Certificate_type</th>\n",
       "      <th>course_rating</th>\n",
       "      <th>course_difficulty</th>\n",
       "      <th>course_students_enrolled</th>\n",
       "    </tr>\n",
       "  </thead>\n",
       "  <tbody>\n",
       "    <tr>\n",
       "      <th>251</th>\n",
       "      <td>El Abogado del Futuro: Legaltech y la Transfor...</td>\n",
       "      <td>Universidad Austral</td>\n",
       "      <td>COURSE</td>\n",
       "      <td>5.0</td>\n",
       "      <td>Beginner</td>\n",
       "      <td>1500</td>\n",
       "    </tr>\n",
       "    <tr>\n",
       "      <th>322</th>\n",
       "      <td>First Step Korean</td>\n",
       "      <td>Yonsei University</td>\n",
       "      <td>COURSE</td>\n",
       "      <td>4.9</td>\n",
       "      <td>Beginner</td>\n",
       "      <td>400000</td>\n",
       "    </tr>\n",
       "    <tr>\n",
       "      <th>427</th>\n",
       "      <td>Improving Deep Neural Networks: Hyperparameter...</td>\n",
       "      <td>deeplearning.ai</td>\n",
       "      <td>COURSE</td>\n",
       "      <td>4.9</td>\n",
       "      <td>Beginner</td>\n",
       "      <td>270000</td>\n",
       "    </tr>\n",
       "    <tr>\n",
       "      <th>512</th>\n",
       "      <td>Introduction to Psychology</td>\n",
       "      <td>Yale University</td>\n",
       "      <td>COURSE</td>\n",
       "      <td>4.9</td>\n",
       "      <td>Beginner</td>\n",
       "      <td>270000</td>\n",
       "    </tr>\n",
       "    <tr>\n",
       "      <th>291</th>\n",
       "      <td>Excel Skills for Business</td>\n",
       "      <td>Macquarie University</td>\n",
       "      <td>SPECIALIZATION</td>\n",
       "      <td>4.9</td>\n",
       "      <td>Beginner</td>\n",
       "      <td>240000</td>\n",
       "    </tr>\n",
       "  </tbody>\n",
       "</table>\n",
       "</div>"
      ],
      "text/plain": [
       "                                          course_title   course_organization  \\\n",
       "251  El Abogado del Futuro: Legaltech y la Transfor...   Universidad Austral   \n",
       "322                                  First Step Korean     Yonsei University   \n",
       "427  Improving Deep Neural Networks: Hyperparameter...       deeplearning.ai   \n",
       "512                         Introduction to Psychology       Yale University   \n",
       "291                          Excel Skills for Business  Macquarie University   \n",
       "\n",
       "    course_Certificate_type  course_rating course_difficulty  \\\n",
       "251                  COURSE            5.0          Beginner   \n",
       "322                  COURSE            4.9          Beginner   \n",
       "427                  COURSE            4.9          Beginner   \n",
       "512                  COURSE            4.9          Beginner   \n",
       "291          SPECIALIZATION            4.9          Beginner   \n",
       "\n",
       "     course_students_enrolled  \n",
       "251                      1500  \n",
       "322                    400000  \n",
       "427                    270000  \n",
       "512                    270000  \n",
       "291                    240000  "
      ]
     },
     "execution_count": 91,
     "metadata": {},
     "output_type": "execute_result"
    }
   ],
   "source": [
    "high_rated_beginner = coursera[(coursera[\"course_difficulty\"]==\"Beginner\") & (coursera[\"course_rating\"]>coursera[\"course_rating\"].quantile(0.90))]\n",
    "print(f\"There are {high_rated_beginner.iloc[:,1].count()} among which top 5 highly rated, most enrolled beginner courses are: \")\n",
    "high_rated_beginner.sort_values(by = [\"course_rating\", \"course_students_enrolled\"], ascending = False).head(5)"
   ]
  },
  {
   "cell_type": "code",
   "execution_count": 90,
   "id": "3ef7a548",
   "metadata": {},
   "outputs": [
    {
     "name": "stdout",
     "output_type": "stream",
     "text": [
      "There are 13 among which top 5 highly rated, most enrolled intermediate courses are: \n"
     ]
    },
    {
     "data": {
      "text/html": [
       "<div>\n",
       "<style scoped>\n",
       "    .dataframe tbody tr th:only-of-type {\n",
       "        vertical-align: middle;\n",
       "    }\n",
       "\n",
       "    .dataframe tbody tr th {\n",
       "        vertical-align: top;\n",
       "    }\n",
       "\n",
       "    .dataframe thead th {\n",
       "        text-align: right;\n",
       "    }\n",
       "</style>\n",
       "<table border=\"1\" class=\"dataframe\">\n",
       "  <thead>\n",
       "    <tr style=\"text-align: right;\">\n",
       "      <th></th>\n",
       "      <th>course_title</th>\n",
       "      <th>course_organization</th>\n",
       "      <th>course_Certificate_type</th>\n",
       "      <th>course_rating</th>\n",
       "      <th>course_difficulty</th>\n",
       "      <th>course_students_enrolled</th>\n",
       "    </tr>\n",
       "  </thead>\n",
       "  <tbody>\n",
       "    <tr>\n",
       "      <th>432</th>\n",
       "      <td>Infectious Disease Modelling</td>\n",
       "      <td>Imperial College London</td>\n",
       "      <td>SPECIALIZATION</td>\n",
       "      <td>5.0</td>\n",
       "      <td>Intermediate</td>\n",
       "      <td>1600</td>\n",
       "    </tr>\n",
       "    <tr>\n",
       "      <th>626</th>\n",
       "      <td>Neural Networks and Deep Learning</td>\n",
       "      <td>deeplearning.ai</td>\n",
       "      <td>COURSE</td>\n",
       "      <td>4.9</td>\n",
       "      <td>Intermediate</td>\n",
       "      <td>630000</td>\n",
       "    </tr>\n",
       "    <tr>\n",
       "      <th>162</th>\n",
       "      <td>Convolutional Neural Networks</td>\n",
       "      <td>deeplearning.ai</td>\n",
       "      <td>COURSE</td>\n",
       "      <td>4.9</td>\n",
       "      <td>Intermediate</td>\n",
       "      <td>240000</td>\n",
       "    </tr>\n",
       "    <tr>\n",
       "      <th>294</th>\n",
       "      <td>Excel Skills for Business: Intermediate I</td>\n",
       "      <td>Macquarie University</td>\n",
       "      <td>COURSE</td>\n",
       "      <td>4.9</td>\n",
       "      <td>Intermediate</td>\n",
       "      <td>76000</td>\n",
       "    </tr>\n",
       "    <tr>\n",
       "      <th>878</th>\n",
       "      <td>Искусство разработки на современном C++</td>\n",
       "      <td>E-Learning Development Fund</td>\n",
       "      <td>SPECIALIZATION</td>\n",
       "      <td>4.9</td>\n",
       "      <td>Intermediate</td>\n",
       "      <td>68000</td>\n",
       "    </tr>\n",
       "  </tbody>\n",
       "</table>\n",
       "</div>"
      ],
      "text/plain": [
       "                                  course_title          course_organization  \\\n",
       "432               Infectious Disease Modelling      Imperial College London   \n",
       "626          Neural Networks and Deep Learning              deeplearning.ai   \n",
       "162              Convolutional Neural Networks              deeplearning.ai   \n",
       "294  Excel Skills for Business: Intermediate I         Macquarie University   \n",
       "878    Искусство разработки на современном C++  E-Learning Development Fund   \n",
       "\n",
       "    course_Certificate_type  course_rating course_difficulty  \\\n",
       "432          SPECIALIZATION            5.0      Intermediate   \n",
       "626                  COURSE            4.9      Intermediate   \n",
       "162                  COURSE            4.9      Intermediate   \n",
       "294                  COURSE            4.9      Intermediate   \n",
       "878          SPECIALIZATION            4.9      Intermediate   \n",
       "\n",
       "     course_students_enrolled  \n",
       "432                      1600  \n",
       "626                    630000  \n",
       "162                    240000  \n",
       "294                     76000  \n",
       "878                     68000  "
      ]
     },
     "execution_count": 90,
     "metadata": {},
     "output_type": "execute_result"
    }
   ],
   "source": [
    "high_rated_inter = coursera[(coursera[\"course_difficulty\"]==\"Intermediate\") & (coursera[\"course_rating\"]>coursera[\"course_rating\"].quantile(0.90))]\n",
    "print(f\"There are {high_rated_inter.iloc[:,1].count()} among which top 5 highly rated, most enrolled intermediate courses are: \")\n",
    "high_rated_inter.sort_values(by = [\"course_rating\", \"course_students_enrolled\"], ascending = False).head(5)"
   ]
  },
  {
   "cell_type": "code",
   "execution_count": 89,
   "id": "37fdbd74",
   "metadata": {},
   "outputs": [
    {
     "name": "stdout",
     "output_type": "stream",
     "text": [
      "There are 17 among which top 5 highly rated, most enrolled mix courses are: \n"
     ]
    },
    {
     "data": {
      "text/html": [
       "<div>\n",
       "<style scoped>\n",
       "    .dataframe tbody tr th:only-of-type {\n",
       "        vertical-align: middle;\n",
       "    }\n",
       "\n",
       "    .dataframe tbody tr th {\n",
       "        vertical-align: top;\n",
       "    }\n",
       "\n",
       "    .dataframe thead th {\n",
       "        text-align: right;\n",
       "    }\n",
       "</style>\n",
       "<table border=\"1\" class=\"dataframe\">\n",
       "  <thead>\n",
       "    <tr style=\"text-align: right;\">\n",
       "      <th></th>\n",
       "      <th>course_title</th>\n",
       "      <th>course_organization</th>\n",
       "      <th>course_Certificate_type</th>\n",
       "      <th>course_rating</th>\n",
       "      <th>course_difficulty</th>\n",
       "      <th>course_students_enrolled</th>\n",
       "    </tr>\n",
       "  </thead>\n",
       "  <tbody>\n",
       "    <tr>\n",
       "      <th>564</th>\n",
       "      <td>Machine Learning</td>\n",
       "      <td>Stanford University</td>\n",
       "      <td>COURSE</td>\n",
       "      <td>4.9</td>\n",
       "      <td>Mixed</td>\n",
       "      <td>3200000</td>\n",
       "    </tr>\n",
       "    <tr>\n",
       "      <th>815</th>\n",
       "      <td>The Science of Well-Being</td>\n",
       "      <td>Yale University</td>\n",
       "      <td>COURSE</td>\n",
       "      <td>4.9</td>\n",
       "      <td>Mixed</td>\n",
       "      <td>2500000</td>\n",
       "    </tr>\n",
       "    <tr>\n",
       "      <th>684</th>\n",
       "      <td>Python Data Structures</td>\n",
       "      <td>University of Michigan</td>\n",
       "      <td>COURSE</td>\n",
       "      <td>4.9</td>\n",
       "      <td>Mixed</td>\n",
       "      <td>420000</td>\n",
       "    </tr>\n",
       "    <tr>\n",
       "      <th>82</th>\n",
       "      <td>Become a CBRS Certified Professional Installer...</td>\n",
       "      <td>Google - Spectrum Sharing</td>\n",
       "      <td>COURSE</td>\n",
       "      <td>4.9</td>\n",
       "      <td>Mixed</td>\n",
       "      <td>210000</td>\n",
       "    </tr>\n",
       "    <tr>\n",
       "      <th>477</th>\n",
       "      <td>Introduction to Classical Music</td>\n",
       "      <td>Yale University</td>\n",
       "      <td>COURSE</td>\n",
       "      <td>4.9</td>\n",
       "      <td>Mixed</td>\n",
       "      <td>150000</td>\n",
       "    </tr>\n",
       "  </tbody>\n",
       "</table>\n",
       "</div>"
      ],
      "text/plain": [
       "                                          course_title  \\\n",
       "564                                   Machine Learning   \n",
       "815                          The Science of Well-Being   \n",
       "684                             Python Data Structures   \n",
       "82   Become a CBRS Certified Professional Installer...   \n",
       "477                    Introduction to Classical Music   \n",
       "\n",
       "           course_organization course_Certificate_type  course_rating  \\\n",
       "564        Stanford University                  COURSE            4.9   \n",
       "815            Yale University                  COURSE            4.9   \n",
       "684     University of Michigan                  COURSE            4.9   \n",
       "82   Google - Spectrum Sharing                  COURSE            4.9   \n",
       "477            Yale University                  COURSE            4.9   \n",
       "\n",
       "    course_difficulty  course_students_enrolled  \n",
       "564             Mixed                   3200000  \n",
       "815             Mixed                   2500000  \n",
       "684             Mixed                    420000  \n",
       "82              Mixed                    210000  \n",
       "477             Mixed                    150000  "
      ]
     },
     "execution_count": 89,
     "metadata": {},
     "output_type": "execute_result"
    }
   ],
   "source": [
    "high_rated_mix = coursera[(coursera[\"course_difficulty\"]==\"Mixed\") & (coursera[\"course_rating\"]>coursera[\"course_rating\"].quantile(0.90))]\n",
    "print(f\"There are {high_rated_mix.iloc[:,1].count()} among which top 5 highly rated, most enrolled mix courses are: \")\n",
    "high_rated_mix.sort_values(by = [\"course_rating\", \"course_students_enrolled\"], ascending = False).head(5)"
   ]
  },
  {
   "cell_type": "markdown",
   "id": "58d0d037",
   "metadata": {},
   "source": [
    "### Hypothesis \n",
    "\n",
    "Course ratings and course enrollments have a strong relationship. "
   ]
  },
  {
   "cell_type": "code",
   "execution_count": 43,
   "id": "2e360b7f",
   "metadata": {},
   "outputs": [
    {
     "data": {
      "text/plain": [
       "course_rating  course_rating               1.00000\n",
       "               course_students_enrolled    0.07109\n",
       "dtype: float64"
      ]
     },
     "execution_count": 43,
     "metadata": {},
     "output_type": "execute_result"
    }
   ],
   "source": [
    "numeric_feat = coursera.select_dtypes(include='number')\n",
    "correlation_matrix = numeric_feat.corr()\n",
    "\n",
    "correlation_matrix.stack().drop_duplicates(keep = 'first', inplace = False)\n"
   ]
  },
  {
   "cell_type": "markdown",
   "id": "2e7675ac",
   "metadata": {},
   "source": [
    "**Result**\n",
    "\n",
    "There is no strong relationship between course rating and number of students getting enrolled. That means there could be other factors that might impact the student enrollment which requires further study."
   ]
  },
  {
   "cell_type": "markdown",
   "id": "4ea760fb",
   "metadata": {},
   "source": [
    "#### Further looking into average ratings per organization, courses, difficulty level and certificate type\n",
    "We take median as as per the outlier calculations before, our data is skewed and is highly sensitive to mean values."
   ]
  },
  {
   "cell_type": "code",
   "execution_count": 54,
   "id": "5ca178ad",
   "metadata": {},
   "outputs": [
    {
     "name": "stdout",
     "output_type": "stream",
     "text": [
      "Average rating per organization: course_organization\n",
      "(ISC)²                                          4.70\n",
      "Amazon Web Services                             4.55\n",
      "American Institute of Business and Economics    4.40\n",
      "American Museum of Natural History              4.75\n",
      "Arizona State University                        4.90\n",
      "                                                ... \n",
      "Yonsei University                               4.75\n",
      "deeplearning.ai                                 4.75\n",
      "École Polytechnique                             4.80\n",
      "École Polytechnique Fédérale de Lausanne        4.75\n",
      "École des Ponts ParisTech                       4.70\n",
      "Name: course_rating, Length: 154, dtype: float64\n",
      " Minimum rating: 4.3\n",
      " Maximum rating: 4.9 \n"
     ]
    }
   ],
   "source": [
    "grouped = coursera.groupby(\"course_organization\").course_rating.median()\n",
    "print(f\"Average rating per organization: {grouped}\\n Minimum rating: {grouped.min()}\\n Maximum rating: {grouped.max()} \")"
   ]
  },
  {
   "cell_type": "markdown",
   "id": "6451016f",
   "metadata": {},
   "source": [
    "The average ratings for the courses per organization ranges from 4.3 to 4.9 which is a good score. The students seems to be satisfied with the courses from all the organization."
   ]
  },
  {
   "cell_type": "markdown",
   "id": "12a05fe1",
   "metadata": {},
   "source": [
    "#### Highest rated organization"
   ]
  },
  {
   "cell_type": "code",
   "execution_count": 55,
   "id": "d582c1b9",
   "metadata": {},
   "outputs": [
    {
     "data": {
      "text/plain": [
       "course_organization\n",
       "Arizona State University                       4.9\n",
       "Crece con Google                               4.9\n",
       "Google - Spectrum Sharing                      4.9\n",
       "Hebrew University of Jerusalem                 4.9\n",
       "London Business School                         4.9\n",
       "Nanyang Technological University, Singapore    4.9\n",
       "ScrumTrek                                      4.9\n",
       "Universidade Estadual de Campinas              4.9\n",
       "Universidade de São Paulo                      4.9\n",
       "University of Florida                          4.9\n",
       "Name: course_rating, dtype: float64"
      ]
     },
     "execution_count": 55,
     "metadata": {},
     "output_type": "execute_result"
    }
   ],
   "source": [
    "highest_median_rate = grouped.max()\n",
    "\n",
    "#Find the organization(s) with the highest mean rating\n",
    "highest_rated_universities = grouped[grouped == highest_median_rate]\n",
    "highest_rated_universities"
   ]
  },
  {
   "cell_type": "code",
   "execution_count": 92,
   "id": "32880283",
   "metadata": {},
   "outputs": [],
   "source": [
    "#Filter the original DataFrame to include only rows for the highest-rated organization(s)\n",
    "result = coursera[coursera['course_organization'].isin(highest_rated_universities)]"
   ]
  },
  {
   "cell_type": "code",
   "execution_count": 57,
   "id": "18106db4",
   "metadata": {},
   "outputs": [],
   "source": [
    "course_difficulty_certificate = coursera.groupby([\"course_Certificate_type\",\"course_difficulty\"]).course_rating.median().reset_index()"
   ]
  },
  {
   "cell_type": "code",
   "execution_count": 60,
   "id": "9dfcdfc6",
   "metadata": {
    "scrolled": false
   },
   "outputs": [
    {
     "data": {
      "text/plain": [
       "<function matplotlib.pyplot.tight_layout(*, pad=1.08, h_pad=None, w_pad=None, rect=None)>"
      ]
     },
     "execution_count": 60,
     "metadata": {},
     "output_type": "execute_result"
    },
    {
     "data": {
      "image/png": "[encoded data removed]",
      "text/plain": [
       "<Figure size 1080x720 with 1 Axes>"
      ]
     },
     "metadata": {
      "needs_background": "light"
     },
     "output_type": "display_data"
    }
   ],
   "source": [
    "plt.figure(figsize = (15,10))\n",
    "\n",
    "ax = sns.barplot(y = course_difficulty_certificate[\"course_rating\"], x = course_difficulty_certificate[\"course_Certificate_type\"], hue = course_difficulty_certificate[\"course_difficulty\"])\n",
    "\n",
    "\n",
    "# Add titles and labels\n",
    "plt.title(\"Course Ratings based on Certificate Type and Difficulty Level\")\n",
    "plt.xlabel(\"Certificate Type\")\n",
    "plt.ylabel(\"Course Rating\")\n",
    "\n",
    "# Add Labels to Bars\n",
    "for container in ax.containers:\n",
    "    ax.bar_label(container, fmt='%.1f', label_type='edge')  \n",
    "    \n",
    "# Move Legend to the Side\n",
    "ax.legend(title=\"Difficulty Level\", bbox_to_anchor=(1.05, 1), loc='upper left')\n",
    "\n",
    "# Show the plot\n",
    "plt.tight_layout"
   ]
  },
  {
   "cell_type": "markdown",
   "id": "34e23c4c",
   "metadata": {},
   "source": [
    "Regardless of the level and certificate type, most of the courses have average rating higher that 4."
   ]
  },
  {
   "cell_type": "markdown",
   "id": "26c9891f",
   "metadata": {},
   "source": [
    "### Key Insights\n",
    "\n",
    "1. Maximum number of students are enrolled in Beginner Level Courses i.e 40 Million making it the most popular difficuluty level.\n",
    "\n",
    "\n",
    "2. Maximum number of students are enrolled in Course Certificate type i.e. 51 Million making it the most popular course type.\n",
    "\n",
    "\n",
    "3. There is a strong relationship between course enrollment and number of courses. In order to increase number of students in other courses, we can experiment by adding more courses in required groups.\n",
    "\n",
    "\n",
    "4. Most courses are rated above 4 regardless of course level and certificate type reflecting that the students are satisfied with the courses."
   ]
  }
 ],
 "metadata": {
  "kernelspec": {
   "display_name": "Python 3 (ipykernel)",
   "language": "python",
   "name": "python3"
  },
  "language_info": {
   "codemirror_mode": {
    "name": "ipython",
    "version": 3
   },
   "file_extension": ".py",
   "mimetype": "text/x-python",
   "name": "python",
   "nbconvert_exporter": "python",
   "pygments_lexer": "ipython3",
   "version": "3.9.12"
  }
 },
 "nbformat": 4,
 "nbformat_minor": 5
}
