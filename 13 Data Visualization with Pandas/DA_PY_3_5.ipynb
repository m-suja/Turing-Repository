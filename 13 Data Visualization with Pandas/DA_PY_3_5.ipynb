{
  "nbformat": 4,
  "nbformat_minor": 0,
  "metadata": {
    "colab": {
      "provenance": []
    },
    "kernelspec": {
      "name": "python3",
      "display_name": "Python 3"
    },
    "language_info": {
      "name": "python"
    }
  },
  "cells": [
    {
      "cell_type": "markdown",
      "source": [
        "Congrats! You have reached the last Part of this Sprint. In this Part, you will need to use all that you learned in this and previous Sprints. As the final assignment of this Sprint, you will analyse the Coursera Course Dataset. You will have to apply all that you have learned about Data Visualization & Data Analysis to complete this task. You'll notice that in this project you have fewer explicitly stated requirements. Our expectation is that you'll use your own judgement how to perform the analysis and how to select the most important avenues of exploration. You'll have to iteratively raise hypotheses and use your data analysis skills to get answers.\n",
        "P.S. we don't expect this project to be perfect - you will continue to improve your skills and there will be many projects for you to apply your newly gained skills in the future. For now just use what you have learned and try your best!\n",
        "\n",
        "> Also, your project will be reviewed by a JTL rather than an STL. This is because the tasks in this sprint are particularly aligned with the expertise that JTLs possess, including their extensive experience in reviewing similar projects. JTLs are well-equipped to provide you with detailed feedback that will help you refine your skills further. While STLs typically handle sprints requiring deeper industry experience, JTLs are more suited to guide you through the challenges of this sprint, ensuring you gain the most from the review process.\n",
        "\n",
        "# Objectives for this Part\n",
        "\n",
        "- Practice working with data from Kaggle.\n",
        "- Practice performing basic EDA.\n",
        "- Practice visualizing data with Matplotlib & Seaborn or Plotly.\n",
        "- Practice reading data, performing queries and filtering data using Pandas.\n",
        "\n",
        "# Requirements\n",
        "\n",
        "- Download the data from [Coursera Course Dataset](https://www.kaggle.com/siddharthm1698/coursera-course-dataset).\n",
        "- Load the data using Pandas.\n",
        "- Perform data cleaning.\n",
        "- Perform exploratory data analysis.\n",
        "- Provide clear explanations in your notebook. Your explanations should inform the reader what you are trying to achieve, what results did you get, and what these results mean.\n",
        "- Provide suggestions about how your analysis can be improved.\n",
        "\n",
        "# Evaluation Criteria\n",
        "\n",
        "- Adherence to the requirements. How well did you meet the requirements?\n",
        "- Visualization quality. Did you use charts effectively to visualize patterns in the data? Are your visualizations properly labeled? Did you use colors effectively? Did you adhere to the principle of proportional ink?\n",
        "- Code quality. Was your code well-structured? Did you use the appropriate levels of abstraction? Did you remove commented out and unused code? Did you adhere to the PEP8?\n",
        "- Code performance. Did you use the suitable algorithms and data structures to solve the problems?\n",
        "\n",
        "# Project Review\n",
        "\n",
        "During your project review, you should present it as if talking to a technical team lead and a senior co-worker working in your team. You can assume that they will have strong data science and software engineering skills - they will understand technical jargon, they are expected to notice things that could have been done better, ask about the choices you've made (especially if you've made some questionable choices). In addition, be careful not to spend your time explaining trivial concepts or code snippets that are simple - your best bet is to focus your presentation on the more difficult portions of your code.\n",
        "\n",
        "\n"
      ],
      "metadata": {
        "id": "slsGfEJw4_6Y"
      }
    }
  ]
}