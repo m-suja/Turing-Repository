{
  "cells": [
    {
      "cell_type": "markdown",
      "id": "bound-recognition",
      "metadata": {
        "id": "bound-recognition"
      },
      "source": [
        "### In this graded task you will be asked to create queries to solve specific business questions.\n",
        "\n",
        "> Note: This sprint will require **2 project reviews and both of them will be performed by peers**. Later in the course, most sprints will have 1 STL and 1 peer reviews.\n",
        "\n",
        "\n",
        "You will have to explore [Adventureworks 2005 database](https://drive.google.com/file/d/1-Qsnn3bg0_PYgY5kKJOUDG8xdKLvOLPK/view?usp=sharing), identify the needed data and the correct way to get it/merge it together with other tables within this database.\n",
        "\n",
        "This project is meant to be a mid-way check-in while learning SQL and will have 2 peer corrections. The next sprint will continue with more advanced SQL topics and will have 1 peer and 1 STL correction.\n",
        "\n",
        "The database can be accessed [here](https://console.cloud.google.com/bigquery?project=tc-da-1&d=adwentureworks_db&p=tc-da-1) using the BigQuery account provided to you by Turing College via email.\n",
        "\n",
        "Some common troubleshooting tips if you cannot access the database or your account:\n",
        "- Make sure you are using the Turing College provided account. Even if you logged in with it before, double check the top-right corner user icon by clicking on it and seeing what user is being used. Permissions of multiple accounts sometimes cause issues, so you can try an incognito browser window.\n",
        "- The Turing College provided account is in the format \"username@turingcollege.com\". The password is sent via email\n",
        "- The password in the email is only viable for one-time use. Once logged in, you will be asked to enter a new password. Please remember it, as learners are not able to reset passwords afterwards themselves. In case of losing your password, contact Giedrius Zebrauskas via Discord.\n",
        "- If you go to BigQuery, have checked that you are logged in with the correct account and still don't see the required tables, check if you have selected the correct project \"TC-DA-1\". This is what you should see:\n",
        "<div><img src='https://i.imgur.com/qV8qMCH.png'/></div>\n",
        "<div><img src='https://i.imgur.com/20UYTbV.png'/></div>\n",
        "\n",
        "- If none of these work and you still cannot see the database needed, contact us via Support Channel in the platform\n",
        "\n",
        "<br>\n",
        "\n",
        "### Tips:\n",
        "* Use  schema for guidance when exploring tables and pay attention to the primary & foreign key when writing joins.\n",
        "* If the query is running slower during reruns, limit the scope of output while writing & experimenting. After the query is done then increase the scope to the intended one.\n",
        "* Use Google to find functions and solutions you may need to solve these tasks, experimentation & curiosity is key in succeeding as a junior data analyst.\n",
        "\n",
        "\n",
        "**There is no one right way to get the correct result.**\n",
        "\n",
        "> Also, make sure to use 'adwentureworks_db' **not** the **v19** version.\n"
      ]
    },
    {
      "cell_type": "markdown",
      "id": "yOc4TcCFXS6S",
      "metadata": {
        "id": "yOc4TcCFXS6S"
      },
      "source": [
        "**To complete this task you need to create a results Google spreadsheet.**\n",
        "- For each section of task you are required to copy your query result in one sheet and the written query in another sheet.\n",
        "- For example, when you solve 1.1, add sheet “1.1 result” and “1.1 query” and so forth.\n",
        "- If you are not able to get the right result, copy in your effort/ideas, we take into account effort.\n",
        "- During the correction, have the BigQuery GCP open, as you may be asked to run your queries and/or show data validation using BigQuery.\n"
      ]
    },
    {
      "cell_type": "markdown",
      "id": "ready-century",
      "metadata": {
        "id": "ready-century"
      },
      "source": [
        "# Tasks\n",
        "\n",
        "## 1. An overview of Products\n",
        "\n",
        "\n",
        "**1.1** You’ve been asked to extract the data on products from the Product table where there exists a product subcategory. And also include the name of the ProductSubcategory.\n",
        "* Columns needed: ProductId, Name, ProductNumber, size, color, ProductSubcategoryId, Subcategory name.\n",
        "* Order results by SubCategory name.\n",
        "\n",
        "\n",
        "Result hint:\n",
        "<div><img src='https://i.imgur.com/HNpPZXV.jpg'/></div>\n",
        "\n",
        "\n",
        "**1.2** In 1.1 query you have a product subcategory but see that you could use the category name.\n",
        "* Find and add the product category name.\n",
        "* Afterwards order the results by Category name.\n",
        "\n",
        "Result hint:\n",
        "<div><img src='https://i.imgur.com/8sPudz5.jpg'/></div>\n",
        "\n",
        "\n",
        "\n",
        "**1.3** Use the established query to select the most expensive (price listed over 2000) bikes that are still actively sold (does not have a sales end date)\n",
        "* Order the results from most to least expensive bike.\n",
        "\n"
      ]
    },
    {
      "cell_type": "markdown",
      "id": "respected-beach",
      "metadata": {
        "id": "respected-beach"
      },
      "source": [
        "## 2. Reviewing work orders\n",
        "\n",
        "**2.1** Create an aggregated query to select the:\n",
        "* Number of unique work orders.\n",
        "* Number of unique products.\n",
        "* Total actual cost.\n",
        "\n",
        "For each location Id from the **'workoderrouting'** table for orders in January 2004.\n",
        "\n",
        "Result Hint:\n",
        "<div><img src='https://i.imgur.com/DPdb8pp.jpg'/ width=\"600\"></div>\n",
        "\n",
        "\n",
        "**2.2** Update your 2.1 query by adding the name of the location and also add the average days amount between actual start date and actual end date per each location.\n",
        "\n",
        "Result hint:\n",
        "<div><img src='https://i.imgur.com/Llvd4Kf.jpg'/></div>\n",
        "\n",
        "\n",
        "**2.3** Select all the expensive work Orders (above 300 actual cost) that happened throught January 2004.\n",
        "\n",
        "Result hint:\n",
        "<div><img src='https://i.imgur.com/E4KUiqh.jpg'/ width=\"400\"></div>\n",
        "\n"
      ]
    },
    {
      "cell_type": "markdown",
      "id": "christian-header",
      "metadata": {
        "id": "christian-header"
      },
      "source": [
        "## 3. Query validation\n",
        "\n",
        "**Below you will find 2 queries that need to be fixed/updated.**\n",
        "\n",
        "* Doubleclick on the cell of the query and you will see it in the original format, copy it into your Bigquery interface and try to fix it there.\n",
        "* Once you have it fixed, copy into your spreadsheet of results among previous task results.\n",
        "\n",
        "**3.1** Your colleague has written a query to find the list of orders connected to special offers. The query works fine but the numbers are off, investigate where the potential issue lies.\n",
        "\n",
        "**Query below:**\n",
        "\n",
        "**Image:**\n",
        "<div><img src='https://i.imgur.com/P7Hy6pJ.jpg' width=\"600\"></div>\n",
        "\n",
        "\n",
        "**Code:**\n",
        "\n",
        "    SELECT sales_detail.SalesOrderId\n",
        "          ,sales_detail.OrderQty\n",
        "          ,sales_detail.UnitPrice\n",
        "          ,sales_detail.LineTotal\n",
        "          ,sales_detail.ProductId\n",
        "          ,sales_detail.SpecialOfferID\n",
        "          ,spec_offer_product.ModifiedDate\n",
        "          ,spec_offer.Category\n",
        "          ,spec_offer.Description\n",
        "\n",
        "    FROM `tc-da-1.adwentureworks_db.salesorderdetail`  as sales_detail\n",
        "\n",
        "    left join `tc-da-1.adwentureworks_db.specialofferproduct` as spec_offer_product\n",
        "    on sales_detail.productId = spec_offer_product.ProductID\n",
        "\n",
        "    left join `tc-da-1.adwentureworks_db.specialoffer` as spec_offer\n",
        "    on sales_detail.SpecialOfferID = spec_offer.SpecialOfferID\n",
        "\n",
        "    order by LineTotal desc"
      ]
    },
    {
      "cell_type": "markdown",
      "id": "purple-darwin",
      "metadata": {
        "id": "purple-darwin"
      },
      "source": [
        "**3.2** Your colleague has written this query to collect basic Vendor information. The query does not work, look into the query and find ways to fix it.\n",
        "Can you provide any feedback on how to make this query be easier to debug/read?\n",
        "\n",
        "**Query below:**\n",
        "\n",
        "**Image:**\n",
        "<div><img src='https://i.imgur.com/jGBT3dR.jpg' width=\"700\"></div>\n",
        "\n",
        "**Code:**\n",
        "\n",
        "SELECT  a.VendorId as Id,vendor_contact.ContactId, b.ContactTypeId,\n",
        "        a.Name,\n",
        "        a.CreditRating,\n",
        "        a.ActiveFlag,\n",
        "        c.AddressId,d.City\n",
        "\n",
        "FROM `tc-da-1.adwentureworks_db.Vendor` as a\n",
        "\n",
        "left join `tc-da-1.adwentureworks_db.vendorcontact` as vendor_contact\n",
        "on vendor.VendorId = vendor_contact.VendorId\n",
        "left join `tc-da1.adwentureworks_db.vendoraddress` as c on a.VendorId = c.VendorId\n",
        "\n",
        "left join `tc-da-1.adwentureworks_db.address` as address\n",
        "on vendor_address.VendorId = d.VendorId\n"
      ]
    },
    {
      "cell_type": "markdown",
      "id": "V5sBXOkJKU2M",
      "metadata": {
        "id": "V5sBXOkJKU2M"
      },
      "source": [
        "<br>\n",
        "\n",
        "# Evaluation criteria for a Graded project submission\n",
        "\n",
        "1. Effort & creativity in searching for suitable solutions.\n",
        "2. Code formatting & readability.\n",
        "3. Ability to explain logic behind code, validate results.\n",
        "4. Your general understanding of SQL\n",
        "\n",
        "During a task review, you may get asked questions that test your understanding of covered topics.\n",
        "\n",
        "**Sample questions**:\n",
        "* What were your first steps when compiling this query?\n",
        "* Did you join on foreign/primary keys in used tables?\n",
        "* Why did you use this logic, could you have done this task using a different type of logic?\n",
        "* Did you validate the results of this query? How? Can you imagine a case where your query becomes flawed/gives an error (i.e. one of tables receives bad data)\n"
      ]
    },
    {
      "cell_type": "markdown",
      "id": "eETf52jzz-S6",
      "metadata": {
        "id": "eETf52jzz-S6"
      },
      "source": [
        "# Submission\n",
        "\n",
        "To submit your project and enable the reviewer to preview your work, follow these steps:\n",
        "  1. Click on the GitHub icon above to navigate to your GitHub repository.\n",
        "  2. Once there, upload a **.sql** file along with other files relevant to your project as a spreadsheet link with query examples and results.\n",
        "\n",
        "This process will allow the reviewer to access and evaluate your work in advance.\n",
        "\n",
        "<br>\n",
        "\n",
        "Here is a step-by-step guide on how to save your SQL code in a **.sql** file using a text editor:\n",
        "    \n",
        "  1. **Select and Copy Your SQL Code**: Highlight your SQL query and copy it\n",
        "  2. **Open Your Preferred Text Editor**: This could be Notepad, Notepad++, Sublime Text, Visual Studio Code, Atom, or any other text editor that you prefer.\n",
        "  3. **Paste the SQL Code**: Paste your copied SQL code into your text editor.\n",
        "  4. **Save the File**: Click on \"File\" in the menu bar of your text editor, then choose \"Save As\" by choosing File Type as \"All Files (*.*)\".\n",
        "  5. **Name Your File**: In the \"File name\" field, type the name you want to give your file and add \".sql\" as the extension (for example, \"my_sql_code.sql\").\n",
        "    \n",
        "You are expected to upload your solution immediately upon scheduling a review. A reviewer, if they see an empty repository with no solution, is allowed to cancel the review.\n",
        "\n",
        "After your first project review, you are encouraged to use the feedback received to make changes and improve your project. If you make the changes very close to the time of the second review, inform the reviewer at the start of the call that you have made some changes. Reviewers usually check your work in advance and might have only seen a previous version. To avoid this, you can schedule your two reviews with some time in-between and make the updates as early as possible.\n",
        "\n",
        "Read more about project reviews [here](https://turingcollege.atlassian.net/wiki/spaces/DLG/pages/537395951/Peer+expert+reviews+corrections).\n",
        "\n",
        "P.S. As a suggested practice, save your queries within the **BigQuery** environment. This will ensure convenient access to your SQL code."
      ]
    },
    {
      "cell_type": "markdown",
      "id": "UM8wPjeyUFqF",
      "metadata": {
        "id": "UM8wPjeyUFqF"
      },
      "source": [
        "<br>\n",
        "\n",
        "## Accessing the next notebook:\n",
        "After you submit your project, you can immediately start working on the next sprint. Simply click on the next sprint in the navigation menu in the top left corner of the platform."
      ]
    }
  ],
  "metadata": {
    "colab": {
      "provenance": []
    },
    "kernelspec": {
      "display_name": "Python 3",
      "language": "python",
      "name": "python3"
    },
    "language_info": {
      "codemirror_mode": {
        "name": "ipython",
        "version": 3
      },
      "file_extension": ".py",
      "mimetype": "text/x-python",
      "name": "python",
      "nbconvert_exporter": "python",
      "pygments_lexer": "ipython3",
      "version": "3.7.10"
    },
    "toc": {
      "base_numbering": 1,
      "nav_menu": {},
      "number_sections": true,
      "sideBar": true,
      "skip_h1_title": false,
      "title_cell": "Table of Contents",
      "title_sidebar": "Contents",
      "toc_cell": false,
      "toc_position": {},
      "toc_section_display": true,
      "toc_window_display": false
    }
  },
  "nbformat": 4,
  "nbformat_minor": 5
}