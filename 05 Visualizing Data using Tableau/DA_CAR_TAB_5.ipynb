{
  "nbformat": 4,
  "nbformat_minor": 0,
  "metadata": {
    "colab": {
      "provenance": []
    },
    "kernelspec": {
      "name": "python3",
      "display_name": "Python 3"
    },
    "language_info": {
      "name": "python"
    }
  },
  "cells": [
    {
      "cell_type": "markdown",
      "source": [
        "Your colleague is very happy with the dashboard you provided him the previous week, but he has some remarks about the overall look of the dashboard:\n",
        "- Some of the metrics and dimensions in charts are not clearly labeled\n",
        "- Some charts formatting is a bit confusing and could be worked on\n",
        "- The whole dashboard does not follow your company's branding because you used dark blue color which does not fit your company’s colors. Choose any other colors of the existing company and adjust the dashboard to suit them. (Or adjust the colors according to your preference)\n",
        "- Colleague also remembered that one of your exec team members is color blind and some charts are really confusing\n",
        "\n",
        "\n",
        "\n",
        "You should make a copy of the final dashboard from the Hands On task to clean it up, make it more interactive and advanced. Feel free to work with anything from formatting to adding completely new graphs and insights. Since this sprint requires a bit more creativity, this graded task is a bit more open and obscure than in other sprints. Though keep in mind that evaluation criteria is also more open to different creative approaches to solving it.\n",
        "\n",
        "As an alternative you can come up with a completely new dashboard if you wish. The only requirement is that you use the same [AdventureWorks company data](https://console.cloud.google.com/bigquery?project=tc-da-1&ws=!1m4!1m3!3m2!1stc-da-1!2sadwentureworks_db) to construct your dashboard. However, due to Tableau Public limitations make sure to copy relevant data to Google Sheets and connect them as your data source.\n",
        "\n",
        "Once again, remember that we are giving you some freedom in your Graded Task, though we expect you follow guidelines you have learned in this sprint. Make sure you take into consideration the dashboard structure and ways to make sure the user understands the data you intend to be understood. For this you will have to come up with your own insights about data and make sure those insights tell a consistent and coherent story.\n",
        "\n",
        "\n",
        "\n",
        "- Provide your analysis in Tableau the main requirement being that you use AdventureWorks company data\n",
        "- You need to present at least one additional insight that either reinforces (or replaces the graphs in the original graph). Your audience is interested in business insights and your role is to identify and tell them a story via - visuals.\n",
        "\n",
        "Here are some examples of possible additional **KPIs**; you can use these or think of your own.\n",
        "  1. Average Profit Per Customer\n",
        "  2. Year-Over-Year Growth Percentage\n",
        "  3. New, Improved Method for Validating the Pareto Approach\n",
        "\n",
        "- Use at least one custom filter implemented using Parameters in Tableau dashboard.\n",
        "- Explore the data. See whether there are interesting data points that can give more insights to your presentation than previously established in the Hands On task.\n",
        "- Provide analytical insights, what are the drawbacks of this analysis, what further analysis could you recommend?\n",
        "- Tableau dashboard itself can be shared by simply publishing it to Tableau Public, make sure it is accessible by your fellow students and STLs.\n",
        "\n",
        "*Tip: to make valuable business insights, it’s almost never enough to only look at the data. It is often very beneficial to do some additional research about the industry and the business as well.*\n",
        "\n",
        "Evaluation criteria for Graded project submission:\n",
        "\n",
        "- Learner provided a dashboard which is user friendly and interactive enough to pull some more insights by the users themselves\n",
        "- Analytical approach to the problem (6 steps approach). Did the learner use their analysis to provide justified, useful and actionable insights?\n",
        "- At least 1 new data source (csv file) added to the Tableau dashboard. SQL queries written to extract needed data, these queries should be well documented and provided in a separate Google sheet with data itself.\n",
        "- Data sources connected to the dashboard, naming conventions are clear and calculated fields have relevant names\n",
        "- Learner understood various techniques to be used in Tableau correctly and managed to improve the original dashboard\n",
        "- Analysis, findings and main points clearly structured\n",
        "- Learner provided useful insights from their own dashboard and included new or already suggested KPIs\n",
        "- Dashboard coloring has been fixed, adjusted to align with the company's branding or to individual preferences, and issues related to color blindness have been resolved\n",
        "\n",
        "\n",
        "> Note: During a task review, you may get asked questions that test your understanding of covered topics, also make sure to share your data source (Google Sheet) as well.\n",
        "\n",
        "**Sample questions:**\n",
        "\n",
        "- How does connecting data sources in Tableau work? What do you always have to have in mind?\n",
        "- How on a very general level should dashboards be structured? What information should be provided at the top of the dashboard vs information provided at the bottom?\n",
        "- Why is providing preattentive attributes important when constructing dashboards?\n",
        "- Can you think of situations where having a less interactive dashboard is more suitable than having a heavily customizable interactive dashboard?\n",
        "\n",
        "<br>\n",
        "\n",
        "## Submission and additional information\n",
        "- Learn more [here](https://turingcollege.atlassian.net/wiki/spaces/DLG/pages/537395951/Peer+expert+reviews#:~:text=Also%2C%20As%20you,be%20effectively%20communicated) in a 'Passing a review' paragraph, about how the quality of your presentation can impact your success in passing the project.\n",
        "\n",
        "- For a comprehensive guide on project submission, detailed review information, and subsequent steps, please refer to the instructions provided [here](https://docs.google.com/document/d/1RTBkQk3kgm58hfM194OkkQN9a3ETHb1w/edit#heading=h.3znysh7). Additionally, you can watch [this video](https://www.loom.com/share/51d03634ccb64391a33dcefd78448c98?sid=ed1f08d0-aa27-4d1d-b801-dabc8f754a80) for guidance on how to upload your project.\n",
        "\n",
        "- When using projects for your personal portfolio, please adhere to the following [rules and guidelines](https://turingcollege.atlassian.net/wiki/spaces/DLG/pages/1002307695/Portfolio+Items)\n",
        "- Note: Once you have completed your project, go to 'File' and select 'Save to Tableau Public.' When your project appears in the 'Vizzes' section of your Tableau Public Profile, locate and open your workbook. Then click on 'settings' and disable the 'allow access' option to prevent others from downloading your project.\n",
        "\n"
      ],
      "metadata": {
        "id": "a5i497sGFxUX"
      }
    }
  ]
}